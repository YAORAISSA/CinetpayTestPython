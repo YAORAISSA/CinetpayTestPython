{
 "cells": [
  {
   "cell_type": "code",
   "execution_count": 101,
   "id": "18f428f2",
   "metadata": {},
   "outputs": [],
   "source": [
    "pip install pandas-profiling"
   ]
  },
  {
   "cell_type": "code",
   "execution_count": 3,
   "id": "94067528",
   "metadata": {},
   "outputs": [],
   "source": [
    "import pandas as pd\n",
    "import matplotlib.pyplot as plt\n",
    "import numpy as np"
   ]
  },
  {
   "cell_type": "code",
   "execution_count": 13,
   "id": "54eae0a9",
   "metadata": {},
   "outputs": [
    {
     "data": {
      "text/html": [
       "<div>\n",
       "<style scoped>\n",
       "    .dataframe tbody tr th:only-of-type {\n",
       "        vertical-align: middle;\n",
       "    }\n",
       "\n",
       "    .dataframe tbody tr th {\n",
       "        vertical-align: top;\n",
       "    }\n",
       "\n",
       "    .dataframe thead th {\n",
       "        text-align: right;\n",
       "    }\n",
       "</style>\n",
       "<table border=\"1\" class=\"dataframe\">\n",
       "  <thead>\n",
       "    <tr style=\"text-align: right;\">\n",
       "      <th></th>\n",
       "      <th>date_transaction</th>\n",
       "      <th>pays_de_transaction</th>\n",
       "      <th>marchand</th>\n",
       "      <th>produit</th>\n",
       "      <th>operateur</th>\n",
       "      <th>devise</th>\n",
       "      <th>montant</th>\n",
       "      <th>commission_operateur</th>\n",
       "      <th>commission_cinetpay</th>\n",
       "    </tr>\n",
       "  </thead>\n",
       "  <tbody>\n",
       "    <tr>\n",
       "      <th>0</th>\n",
       "      <td>2021-07-08 17:45:47</td>\n",
       "      <td>CI</td>\n",
       "      <td>DDV</td>\n",
       "      <td>Payin</td>\n",
       "      <td>DDVAOMCI</td>\n",
       "      <td>XOF</td>\n",
       "      <td>2000.0</td>\n",
       "      <td>30.0</td>\n",
       "      <td>0.0</td>\n",
       "    </tr>\n",
       "    <tr>\n",
       "      <th>1</th>\n",
       "      <td>2021-07-02 22:02:08</td>\n",
       "      <td>CI</td>\n",
       "      <td>DDV</td>\n",
       "      <td>Payin</td>\n",
       "      <td>DDVAVISAM</td>\n",
       "      <td>XOF</td>\n",
       "      <td>2000.0</td>\n",
       "      <td>30.0</td>\n",
       "      <td>10.0</td>\n",
       "    </tr>\n",
       "    <tr>\n",
       "      <th>2</th>\n",
       "      <td>2021-12-06 23:11:20</td>\n",
       "      <td>SN</td>\n",
       "      <td>BET</td>\n",
       "      <td>Payin</td>\n",
       "      <td>OMSN</td>\n",
       "      <td>XOF</td>\n",
       "      <td>1000.0</td>\n",
       "      <td>10.0</td>\n",
       "      <td>30.0</td>\n",
       "    </tr>\n",
       "    <tr>\n",
       "      <th>3</th>\n",
       "      <td>2022-01-06 10:39:43</td>\n",
       "      <td>CI</td>\n",
       "      <td>DDV</td>\n",
       "      <td>Payin</td>\n",
       "      <td>DDVAVISAM</td>\n",
       "      <td>XOF</td>\n",
       "      <td>2000.0</td>\n",
       "      <td>30.0</td>\n",
       "      <td>10.0</td>\n",
       "    </tr>\n",
       "    <tr>\n",
       "      <th>4</th>\n",
       "      <td>2021-07-03 19:39:20</td>\n",
       "      <td>SN</td>\n",
       "      <td>BET</td>\n",
       "      <td>Payin</td>\n",
       "      <td>OMSN</td>\n",
       "      <td>XOF</td>\n",
       "      <td>500.0</td>\n",
       "      <td>5.0</td>\n",
       "      <td>15.0</td>\n",
       "    </tr>\n",
       "  </tbody>\n",
       "</table>\n",
       "</div>"
      ],
      "text/plain": [
       "     date_transaction pays_de_transaction marchand produit  operateur devise  \\\n",
       "0 2021-07-08 17:45:47                  CI      DDV   Payin   DDVAOMCI    XOF   \n",
       "1 2021-07-02 22:02:08                  CI      DDV   Payin  DDVAVISAM    XOF   \n",
       "2 2021-12-06 23:11:20                  SN      BET   Payin       OMSN    XOF   \n",
       "3 2022-01-06 10:39:43                  CI      DDV   Payin  DDVAVISAM    XOF   \n",
       "4 2021-07-03 19:39:20                  SN      BET   Payin       OMSN    XOF   \n",
       "\n",
       "   montant  commission_operateur  commission_cinetpay  \n",
       "0   2000.0                  30.0                  0.0  \n",
       "1   2000.0                  30.0                 10.0  \n",
       "2   1000.0                  10.0                 30.0  \n",
       "3   2000.0                  30.0                 10.0  \n",
       "4    500.0                   5.0                 15.0  "
      ]
     },
     "execution_count": 13,
     "metadata": {},
     "output_type": "execute_result"
    }
   ],
   "source": [
    "PayIn = pd.read_excel('PayIn.xlsx')\n",
    "PayIn.head()"
   ]
  },
  {
   "cell_type": "code",
   "execution_count": null,
   "id": "f3aa7640",
   "metadata": {},
   "outputs": [],
   "source": []
  },
  {
   "cell_type": "code",
   "execution_count": 16,
   "id": "d8fe720e",
   "metadata": {},
   "outputs": [
    {
     "data": {
      "text/html": [
       "<div>\n",
       "<style scoped>\n",
       "    .dataframe tbody tr th:only-of-type {\n",
       "        vertical-align: middle;\n",
       "    }\n",
       "\n",
       "    .dataframe tbody tr th {\n",
       "        vertical-align: top;\n",
       "    }\n",
       "\n",
       "    .dataframe thead th {\n",
       "        text-align: right;\n",
       "    }\n",
       "</style>\n",
       "<table border=\"1\" class=\"dataframe\">\n",
       "  <thead>\n",
       "    <tr style=\"text-align: right;\">\n",
       "      <th></th>\n",
       "      <th>date_transaction</th>\n",
       "      <th>pays_de_transaction</th>\n",
       "      <th>marchand</th>\n",
       "      <th>produit</th>\n",
       "      <th>operateur</th>\n",
       "      <th>devise</th>\n",
       "      <th>montant</th>\n",
       "    </tr>\n",
       "  </thead>\n",
       "  <tbody>\n",
       "    <tr>\n",
       "      <th>0</th>\n",
       "      <td>2021-09-10 13:43:30</td>\n",
       "      <td>SN</td>\n",
       "      <td>BET</td>\n",
       "      <td>Payout</td>\n",
       "      <td>OMSN</td>\n",
       "      <td>XOF</td>\n",
       "      <td>6000.0</td>\n",
       "    </tr>\n",
       "    <tr>\n",
       "      <th>1</th>\n",
       "      <td>2021-10-01 12:36:36</td>\n",
       "      <td>CM</td>\n",
       "      <td>STA</td>\n",
       "      <td>Payout</td>\n",
       "      <td>MTNCM</td>\n",
       "      <td>XAF</td>\n",
       "      <td>1500.0</td>\n",
       "    </tr>\n",
       "    <tr>\n",
       "      <th>2</th>\n",
       "      <td>2021-04-18 18:03:01</td>\n",
       "      <td>SN</td>\n",
       "      <td>BET</td>\n",
       "      <td>Payout</td>\n",
       "      <td>OMSN</td>\n",
       "      <td>XOF</td>\n",
       "      <td>5000.0</td>\n",
       "    </tr>\n",
       "    <tr>\n",
       "      <th>3</th>\n",
       "      <td>2020-01-19 16:55:00</td>\n",
       "      <td>ML</td>\n",
       "      <td>Pre</td>\n",
       "      <td>Payout</td>\n",
       "      <td>OMML</td>\n",
       "      <td>XOF</td>\n",
       "      <td>300.0</td>\n",
       "    </tr>\n",
       "    <tr>\n",
       "      <th>4</th>\n",
       "      <td>2021-02-02 08:54:02</td>\n",
       "      <td>CM</td>\n",
       "      <td>STA</td>\n",
       "      <td>Payout</td>\n",
       "      <td>MTNCM</td>\n",
       "      <td>XAF</td>\n",
       "      <td>4000.0</td>\n",
       "    </tr>\n",
       "  </tbody>\n",
       "</table>\n",
       "</div>"
      ],
      "text/plain": [
       "     date_transaction pays_de_transaction marchand produit operateur devise  \\\n",
       "0 2021-09-10 13:43:30                  SN      BET  Payout      OMSN    XOF   \n",
       "1 2021-10-01 12:36:36                  CM      STA  Payout     MTNCM    XAF   \n",
       "2 2021-04-18 18:03:01                  SN      BET  Payout      OMSN    XOF   \n",
       "3 2020-01-19 16:55:00                  ML      Pre  Payout      OMML    XOF   \n",
       "4 2021-02-02 08:54:02                  CM      STA  Payout     MTNCM    XAF   \n",
       "\n",
       "   montant  \n",
       "0   6000.0  \n",
       "1   1500.0  \n",
       "2   5000.0  \n",
       "3    300.0  \n",
       "4   4000.0  "
      ]
     },
     "execution_count": 16,
     "metadata": {},
     "output_type": "execute_result"
    }
   ],
   "source": [
    "PayOut = pd.read_excel('PayOut.xlsx')\n",
    "PayOut.head()"
   ]
  },
  {
   "cell_type": "code",
   "execution_count": 14,
   "id": "02e11960",
   "metadata": {},
   "outputs": [
    {
     "data": {
      "text/html": [
       "<div>\n",
       "<style scoped>\n",
       "    .dataframe tbody tr th:only-of-type {\n",
       "        vertical-align: middle;\n",
       "    }\n",
       "\n",
       "    .dataframe tbody tr th {\n",
       "        vertical-align: top;\n",
       "    }\n",
       "\n",
       "    .dataframe thead th {\n",
       "        text-align: right;\n",
       "    }\n",
       "</style>\n",
       "<table border=\"1\" class=\"dataframe\">\n",
       "  <thead>\n",
       "    <tr style=\"text-align: right;\">\n",
       "      <th></th>\n",
       "      <th>date_transaction</th>\n",
       "      <th>pays_de_transaction</th>\n",
       "      <th>marchand</th>\n",
       "      <th>produit</th>\n",
       "      <th>operateur</th>\n",
       "      <th>devise</th>\n",
       "      <th>montant</th>\n",
       "    </tr>\n",
       "  </thead>\n",
       "  <tbody>\n",
       "    <tr>\n",
       "      <th>0</th>\n",
       "      <td>2021-12-27 09:24:00</td>\n",
       "      <td>CI</td>\n",
       "      <td>YUP</td>\n",
       "      <td>Airtime</td>\n",
       "      <td>OM</td>\n",
       "      <td>XOF</td>\n",
       "      <td>1000</td>\n",
       "    </tr>\n",
       "    <tr>\n",
       "      <th>1</th>\n",
       "      <td>2020-01-22 10:51:00</td>\n",
       "      <td>CI</td>\n",
       "      <td>BET</td>\n",
       "      <td>Airtime</td>\n",
       "      <td>OM</td>\n",
       "      <td>XOF</td>\n",
       "      <td>5000</td>\n",
       "    </tr>\n",
       "    <tr>\n",
       "      <th>2</th>\n",
       "      <td>2021-12-14 10:18:00</td>\n",
       "      <td>CI</td>\n",
       "      <td>YUP</td>\n",
       "      <td>Airtime</td>\n",
       "      <td>OM</td>\n",
       "      <td>XOF</td>\n",
       "      <td>300</td>\n",
       "    </tr>\n",
       "    <tr>\n",
       "      <th>3</th>\n",
       "      <td>2021-12-21 10:31:00</td>\n",
       "      <td>CI</td>\n",
       "      <td>YUP</td>\n",
       "      <td>Airtime</td>\n",
       "      <td>OM</td>\n",
       "      <td>XOF</td>\n",
       "      <td>3000</td>\n",
       "    </tr>\n",
       "    <tr>\n",
       "      <th>4</th>\n",
       "      <td>2021-12-08 16:50:00</td>\n",
       "      <td>CI</td>\n",
       "      <td>YUP</td>\n",
       "      <td>Airtime</td>\n",
       "      <td>OM</td>\n",
       "      <td>XOF</td>\n",
       "      <td>600</td>\n",
       "    </tr>\n",
       "  </tbody>\n",
       "</table>\n",
       "</div>"
      ],
      "text/plain": [
       "     date_transaction pays_de_transaction marchand  produit operateur devise  \\\n",
       "0 2021-12-27 09:24:00                  CI      YUP  Airtime        OM    XOF   \n",
       "1 2020-01-22 10:51:00                  CI      BET  Airtime        OM    XOF   \n",
       "2 2021-12-14 10:18:00                  CI      YUP  Airtime        OM    XOF   \n",
       "3 2021-12-21 10:31:00                  CI      YUP  Airtime        OM    XOF   \n",
       "4 2021-12-08 16:50:00                  CI      YUP  Airtime        OM    XOF   \n",
       "\n",
       "   montant  \n",
       "0     1000  \n",
       "1     5000  \n",
       "2      300  \n",
       "3     3000  \n",
       "4      600  "
      ]
     },
     "execution_count": 14,
     "metadata": {},
     "output_type": "execute_result"
    }
   ],
   "source": [
    "Airtime = pd.read_excel('Airtime.xlsx')\n",
    "Airtime.head()"
   ]
  },
  {
   "cell_type": "markdown",
   "id": "a6ca3c8a",
   "metadata": {},
   "source": [
    "# Phase exploratoire des différents fichiers"
   ]
  },
  {
   "cell_type": "code",
   "execution_count": 17,
   "id": "1c3a7cd3",
   "metadata": {},
   "outputs": [
    {
     "name": "stderr",
     "output_type": "stream",
     "text": [
      "C:\\Users\\RCARINE\\AppData\\Local\\Temp/ipykernel_13432/2274191625.py:1: DeprecationWarning: `import pandas_profiling` is going to be deprecated by April 1st. Please use `import ydata_profiling` instead.\n",
      "  from pandas_profiling import ProfileReport\n"
     ]
    }
   ],
   "source": [
    "from pandas_profiling import ProfileReport"
   ]
  },
  {
   "cell_type": "markdown",
   "id": "afb17a0a",
   "metadata": {},
   "source": [
    "**Phase exploratoire du fichier PayIn**"
   ]
  },
  {
   "cell_type": "code",
   "execution_count": 18,
   "id": "73f8a384",
   "metadata": {},
   "outputs": [
    {
     "data": {
      "application/vnd.jupyter.widget-view+json": {
       "model_id": "309f9e20fab24544b6bfd83d928e3faf",
       "version_major": 2,
       "version_minor": 0
      },
      "text/plain": [
       "Summarize dataset:   0%|          | 0/5 [00:00<?, ?it/s]"
      ]
     },
     "metadata": {},
     "output_type": "display_data"
    },
    {
     "data": {
      "application/vnd.jupyter.widget-view+json": {
       "model_id": "7e5811f3c91542aea9b41875969563d5",
       "version_major": 2,
       "version_minor": 0
      },
      "text/plain": [
       "Generate report structure:   0%|          | 0/1 [00:00<?, ?it/s]"
      ]
     },
     "metadata": {},
     "output_type": "display_data"
    },
    {
     "data": {
      "application/vnd.jupyter.widget-view+json": {
       "model_id": "95ac6c1147884e7e8e838e1c997cdcc9",
       "version_major": 2,
       "version_minor": 0
      },
      "text/plain": [
       "Render HTML:   0%|          | 0/1 [00:00<?, ?it/s]"
      ]
     },
     "metadata": {},
     "output_type": "display_data"
    },
    {
     "data": {
      "application/vnd.jupyter.widget-view+json": {
       "model_id": "ce0b8d72c3484bd787fe8f965ea6cd71",
       "version_major": 2,
       "version_minor": 0
      },
      "text/plain": [
       "Export report to file:   0%|          | 0/1 [00:00<?, ?it/s]"
      ]
     },
     "metadata": {},
     "output_type": "display_data"
    }
   ],
   "source": [
    "prof = ProfileReport(PayIn)\n",
    "prof.to_file(output_file='rapportPayin.html')"
   ]
  },
  {
   "cell_type": "markdown",
   "id": "e9f53226",
   "metadata": {},
   "source": [
    "**Phase exploratoire du fichier PayOut**"
   ]
  },
  {
   "cell_type": "code",
   "execution_count": 19,
   "id": "2b331076",
   "metadata": {},
   "outputs": [
    {
     "data": {
      "application/vnd.jupyter.widget-view+json": {
       "model_id": "84a9e03b33504099b6f3b239dd52c72c",
       "version_major": 2,
       "version_minor": 0
      },
      "text/plain": [
       "Summarize dataset:   0%|          | 0/5 [00:00<?, ?it/s]"
      ]
     },
     "metadata": {},
     "output_type": "display_data"
    },
    {
     "data": {
      "application/vnd.jupyter.widget-view+json": {
       "model_id": "5ca4d4d7d70f4cd69ff916f9e00f9a34",
       "version_major": 2,
       "version_minor": 0
      },
      "text/plain": [
       "Generate report structure:   0%|          | 0/1 [00:00<?, ?it/s]"
      ]
     },
     "metadata": {},
     "output_type": "display_data"
    },
    {
     "data": {
      "application/vnd.jupyter.widget-view+json": {
       "model_id": "dbe8e6a3c68f4a12b2af272d777d0d94",
       "version_major": 2,
       "version_minor": 0
      },
      "text/plain": [
       "Render HTML:   0%|          | 0/1 [00:00<?, ?it/s]"
      ]
     },
     "metadata": {},
     "output_type": "display_data"
    },
    {
     "data": {
      "application/vnd.jupyter.widget-view+json": {
       "model_id": "a7fe8b2feda040ddad83696ad4879aa6",
       "version_major": 2,
       "version_minor": 0
      },
      "text/plain": [
       "Export report to file:   0%|          | 0/1 [00:00<?, ?it/s]"
      ]
     },
     "metadata": {},
     "output_type": "display_data"
    }
   ],
   "source": [
    "profPayOut = ProfileReport(PayOut)\n",
    "profPayOut.to_file(output_file='rapportPayOut.html')"
   ]
  },
  {
   "cell_type": "markdown",
   "id": "5c52fe5a",
   "metadata": {},
   "source": [
    "**Phase exploratoire du fichier Airtime**"
   ]
  },
  {
   "cell_type": "code",
   "execution_count": 20,
   "id": "748c48fb",
   "metadata": {
    "scrolled": true
   },
   "outputs": [
    {
     "data": {
      "application/vnd.jupyter.widget-view+json": {
       "model_id": "bbd24ae129af4b9282ceadc359f0d3eb",
       "version_major": 2,
       "version_minor": 0
      },
      "text/plain": [
       "Summarize dataset:   0%|          | 0/5 [00:00<?, ?it/s]"
      ]
     },
     "metadata": {},
     "output_type": "display_data"
    },
    {
     "data": {
      "application/vnd.jupyter.widget-view+json": {
       "model_id": "1a1630f9d2a84da097aa939844154a13",
       "version_major": 2,
       "version_minor": 0
      },
      "text/plain": [
       "Generate report structure:   0%|          | 0/1 [00:00<?, ?it/s]"
      ]
     },
     "metadata": {},
     "output_type": "display_data"
    },
    {
     "data": {
      "application/vnd.jupyter.widget-view+json": {
       "model_id": "4ec2d5f0931c4bdbb5fbebcfd8be4180",
       "version_major": 2,
       "version_minor": 0
      },
      "text/plain": [
       "Render HTML:   0%|          | 0/1 [00:00<?, ?it/s]"
      ]
     },
     "metadata": {},
     "output_type": "display_data"
    },
    {
     "data": {
      "application/vnd.jupyter.widget-view+json": {
       "model_id": "e42f10fafa2c4433a298301d7ab5bbc0",
       "version_major": 2,
       "version_minor": 0
      },
      "text/plain": [
       "Export report to file:   0%|          | 0/1 [00:00<?, ?it/s]"
      ]
     },
     "metadata": {},
     "output_type": "display_data"
    }
   ],
   "source": [
    "profAirtime = ProfileReport(Airtime)\n",
    "profAirtime.to_file(output_file='rapportAirtime.html')"
   ]
  },
  {
   "cell_type": "markdown",
   "id": "3769ede3",
   "metadata": {},
   "source": [
    "# Fusion des trois fichiers "
   ]
  },
  {
   "cell_type": "code",
   "execution_count": 104,
   "id": "959e91dc",
   "metadata": {},
   "outputs": [],
   "source": [
    "FusionDesDonnees = PayIn.append(PayOut).append(Airtime)"
   ]
  },
  {
   "cell_type": "code",
   "execution_count": 105,
   "id": "69d1cd76",
   "metadata": {},
   "outputs": [
    {
     "data": {
      "text/html": [
       "<div>\n",
       "<style scoped>\n",
       "    .dataframe tbody tr th:only-of-type {\n",
       "        vertical-align: middle;\n",
       "    }\n",
       "\n",
       "    .dataframe tbody tr th {\n",
       "        vertical-align: top;\n",
       "    }\n",
       "\n",
       "    .dataframe thead th {\n",
       "        text-align: right;\n",
       "    }\n",
       "</style>\n",
       "<table border=\"1\" class=\"dataframe\">\n",
       "  <thead>\n",
       "    <tr style=\"text-align: right;\">\n",
       "      <th></th>\n",
       "      <th>date_transaction</th>\n",
       "      <th>pays_de_transaction</th>\n",
       "      <th>marchand</th>\n",
       "      <th>produit</th>\n",
       "      <th>operateur</th>\n",
       "      <th>devise</th>\n",
       "      <th>montant</th>\n",
       "      <th>commission_operateur</th>\n",
       "      <th>commission_cinetpay</th>\n",
       "    </tr>\n",
       "  </thead>\n",
       "  <tbody>\n",
       "    <tr>\n",
       "      <th>0</th>\n",
       "      <td>2021-07-08 17:45:47</td>\n",
       "      <td>CI</td>\n",
       "      <td>DDV</td>\n",
       "      <td>Payin</td>\n",
       "      <td>DDVAOMCI</td>\n",
       "      <td>XOF</td>\n",
       "      <td>2000.0</td>\n",
       "      <td>30.0</td>\n",
       "      <td>0.0</td>\n",
       "    </tr>\n",
       "    <tr>\n",
       "      <th>1</th>\n",
       "      <td>2021-07-02 22:02:08</td>\n",
       "      <td>CI</td>\n",
       "      <td>DDV</td>\n",
       "      <td>Payin</td>\n",
       "      <td>DDVAVISAM</td>\n",
       "      <td>XOF</td>\n",
       "      <td>2000.0</td>\n",
       "      <td>30.0</td>\n",
       "      <td>10.0</td>\n",
       "    </tr>\n",
       "    <tr>\n",
       "      <th>2</th>\n",
       "      <td>2021-12-06 23:11:20</td>\n",
       "      <td>SN</td>\n",
       "      <td>BET</td>\n",
       "      <td>Payin</td>\n",
       "      <td>OMSN</td>\n",
       "      <td>XOF</td>\n",
       "      <td>1000.0</td>\n",
       "      <td>10.0</td>\n",
       "      <td>30.0</td>\n",
       "    </tr>\n",
       "    <tr>\n",
       "      <th>3</th>\n",
       "      <td>2022-01-06 10:39:43</td>\n",
       "      <td>CI</td>\n",
       "      <td>DDV</td>\n",
       "      <td>Payin</td>\n",
       "      <td>DDVAVISAM</td>\n",
       "      <td>XOF</td>\n",
       "      <td>2000.0</td>\n",
       "      <td>30.0</td>\n",
       "      <td>10.0</td>\n",
       "    </tr>\n",
       "    <tr>\n",
       "      <th>4</th>\n",
       "      <td>2021-07-03 19:39:20</td>\n",
       "      <td>SN</td>\n",
       "      <td>BET</td>\n",
       "      <td>Payin</td>\n",
       "      <td>OMSN</td>\n",
       "      <td>XOF</td>\n",
       "      <td>500.0</td>\n",
       "      <td>5.0</td>\n",
       "      <td>15.0</td>\n",
       "    </tr>\n",
       "    <tr>\n",
       "      <th>...</th>\n",
       "      <td>...</td>\n",
       "      <td>...</td>\n",
       "      <td>...</td>\n",
       "      <td>...</td>\n",
       "      <td>...</td>\n",
       "      <td>...</td>\n",
       "      <td>...</td>\n",
       "      <td>...</td>\n",
       "      <td>...</td>\n",
       "    </tr>\n",
       "    <tr>\n",
       "      <th>9995</th>\n",
       "      <td>2021-11-28 08:19:00</td>\n",
       "      <td>CI</td>\n",
       "      <td>YUP</td>\n",
       "      <td>Airtime</td>\n",
       "      <td>OM</td>\n",
       "      <td>XOF</td>\n",
       "      <td>200.0</td>\n",
       "      <td>NaN</td>\n",
       "      <td>NaN</td>\n",
       "    </tr>\n",
       "    <tr>\n",
       "      <th>9996</th>\n",
       "      <td>2021-11-26 17:06:00</td>\n",
       "      <td>CI</td>\n",
       "      <td>YUP</td>\n",
       "      <td>Airtime</td>\n",
       "      <td>OM</td>\n",
       "      <td>XOF</td>\n",
       "      <td>500.0</td>\n",
       "      <td>NaN</td>\n",
       "      <td>NaN</td>\n",
       "    </tr>\n",
       "    <tr>\n",
       "      <th>9997</th>\n",
       "      <td>2021-11-25 11:22:00</td>\n",
       "      <td>CI</td>\n",
       "      <td>YUP</td>\n",
       "      <td>Airtime</td>\n",
       "      <td>OM</td>\n",
       "      <td>XOF</td>\n",
       "      <td>150.0</td>\n",
       "      <td>NaN</td>\n",
       "      <td>NaN</td>\n",
       "    </tr>\n",
       "    <tr>\n",
       "      <th>9998</th>\n",
       "      <td>2021-10-19 09:23:00</td>\n",
       "      <td>CI</td>\n",
       "      <td>AFR</td>\n",
       "      <td>Airtime</td>\n",
       "      <td>OM</td>\n",
       "      <td>XOF</td>\n",
       "      <td>1000.0</td>\n",
       "      <td>NaN</td>\n",
       "      <td>NaN</td>\n",
       "    </tr>\n",
       "    <tr>\n",
       "      <th>9999</th>\n",
       "      <td>2021-12-30 11:42:00</td>\n",
       "      <td>CI</td>\n",
       "      <td>Wiz</td>\n",
       "      <td>Airtime</td>\n",
       "      <td>MOMO</td>\n",
       "      <td>XOF</td>\n",
       "      <td>2545.0</td>\n",
       "      <td>NaN</td>\n",
       "      <td>NaN</td>\n",
       "    </tr>\n",
       "  </tbody>\n",
       "</table>\n",
       "<p>30000 rows × 9 columns</p>\n",
       "</div>"
      ],
      "text/plain": [
       "        date_transaction pays_de_transaction marchand  produit  operateur  \\\n",
       "0    2021-07-08 17:45:47                  CI      DDV    Payin   DDVAOMCI   \n",
       "1    2021-07-02 22:02:08                  CI      DDV    Payin  DDVAVISAM   \n",
       "2    2021-12-06 23:11:20                  SN      BET    Payin       OMSN   \n",
       "3    2022-01-06 10:39:43                  CI      DDV    Payin  DDVAVISAM   \n",
       "4    2021-07-03 19:39:20                  SN      BET    Payin       OMSN   \n",
       "...                  ...                 ...      ...      ...        ...   \n",
       "9995 2021-11-28 08:19:00                  CI      YUP  Airtime         OM   \n",
       "9996 2021-11-26 17:06:00                  CI      YUP  Airtime         OM   \n",
       "9997 2021-11-25 11:22:00                  CI      YUP  Airtime         OM   \n",
       "9998 2021-10-19 09:23:00                  CI      AFR  Airtime         OM   \n",
       "9999 2021-12-30 11:42:00                  CI      Wiz  Airtime       MOMO   \n",
       "\n",
       "     devise  montant  commission_operateur  commission_cinetpay  \n",
       "0       XOF   2000.0                  30.0                  0.0  \n",
       "1       XOF   2000.0                  30.0                 10.0  \n",
       "2       XOF   1000.0                  10.0                 30.0  \n",
       "3       XOF   2000.0                  30.0                 10.0  \n",
       "4       XOF    500.0                   5.0                 15.0  \n",
       "...     ...      ...                   ...                  ...  \n",
       "9995    XOF    200.0                   NaN                  NaN  \n",
       "9996    XOF    500.0                   NaN                  NaN  \n",
       "9997    XOF    150.0                   NaN                  NaN  \n",
       "9998    XOF   1000.0                   NaN                  NaN  \n",
       "9999    XOF   2545.0                   NaN                  NaN  \n",
       "\n",
       "[30000 rows x 9 columns]"
      ]
     },
     "execution_count": 105,
     "metadata": {},
     "output_type": "execute_result"
    }
   ],
   "source": [
    "# Visualisation de notre data\n",
    "\n",
    "FusionDesDonnees"
   ]
  },
  {
   "cell_type": "markdown",
   "id": "5bbcff83",
   "metadata": {},
   "source": [
    "## IMPUTATION DES VALEURS MANQUANTES\n",
    "\n",
    "**Vue qu'au PayOut et au Airtime il n'y pas de commission(commission_opérateur et commission_Cinetpay) nous allons donc imputer par 0**"
   ]
  },
  {
   "cell_type": "markdown",
   "id": "ae907e05",
   "metadata": {},
   "source": [
    "#### Créons une fonction qui impute les valeurs manquantes"
   ]
  },
  {
   "cell_type": "code",
   "execution_count": 106,
   "id": "c2d33625",
   "metadata": {},
   "outputs": [
    {
     "data": {
      "text/plain": [
       "('montant', 'commission_operateur', 'commission_cinetpay')"
      ]
     },
     "execution_count": 106,
     "metadata": {},
     "output_type": "execute_result"
    }
   ],
   "source": [
    "colnum = ('montant', 'commission_operateur','commission_cinetpay')\n",
    "colnum"
   ]
  },
  {
   "cell_type": "code",
   "execution_count": 107,
   "id": "35dd8fda",
   "metadata": {},
   "outputs": [],
   "source": [
    "def imputmissingvalue(data, cols, val):\n",
    "    valuesinput = dict.fromkeys(cols,val)\n",
    "    data.fillna(valuesinput, inplace=True)\n",
    "    return data"
   ]
  },
  {
   "cell_type": "code",
   "execution_count": 109,
   "id": "dc93fef7",
   "metadata": {},
   "outputs": [
    {
     "data": {
      "text/html": [
       "<div>\n",
       "<style scoped>\n",
       "    .dataframe tbody tr th:only-of-type {\n",
       "        vertical-align: middle;\n",
       "    }\n",
       "\n",
       "    .dataframe tbody tr th {\n",
       "        vertical-align: top;\n",
       "    }\n",
       "\n",
       "    .dataframe thead th {\n",
       "        text-align: right;\n",
       "    }\n",
       "</style>\n",
       "<table border=\"1\" class=\"dataframe\">\n",
       "  <thead>\n",
       "    <tr style=\"text-align: right;\">\n",
       "      <th></th>\n",
       "      <th>date_transaction</th>\n",
       "      <th>pays_de_transaction</th>\n",
       "      <th>marchand</th>\n",
       "      <th>produit</th>\n",
       "      <th>operateur</th>\n",
       "      <th>devise</th>\n",
       "      <th>montant</th>\n",
       "      <th>commission_operateur</th>\n",
       "      <th>commission_cinetpay</th>\n",
       "    </tr>\n",
       "  </thead>\n",
       "  <tbody>\n",
       "    <tr>\n",
       "      <th>9995</th>\n",
       "      <td>2021-11-28 08:19:00</td>\n",
       "      <td>CI</td>\n",
       "      <td>YUP</td>\n",
       "      <td>Airtime</td>\n",
       "      <td>OM</td>\n",
       "      <td>XOF</td>\n",
       "      <td>200.0</td>\n",
       "      <td>0.0</td>\n",
       "      <td>0.0</td>\n",
       "    </tr>\n",
       "    <tr>\n",
       "      <th>9996</th>\n",
       "      <td>2021-11-26 17:06:00</td>\n",
       "      <td>CI</td>\n",
       "      <td>YUP</td>\n",
       "      <td>Airtime</td>\n",
       "      <td>OM</td>\n",
       "      <td>XOF</td>\n",
       "      <td>500.0</td>\n",
       "      <td>0.0</td>\n",
       "      <td>0.0</td>\n",
       "    </tr>\n",
       "    <tr>\n",
       "      <th>9997</th>\n",
       "      <td>2021-11-25 11:22:00</td>\n",
       "      <td>CI</td>\n",
       "      <td>YUP</td>\n",
       "      <td>Airtime</td>\n",
       "      <td>OM</td>\n",
       "      <td>XOF</td>\n",
       "      <td>150.0</td>\n",
       "      <td>0.0</td>\n",
       "      <td>0.0</td>\n",
       "    </tr>\n",
       "    <tr>\n",
       "      <th>9998</th>\n",
       "      <td>2021-10-19 09:23:00</td>\n",
       "      <td>CI</td>\n",
       "      <td>AFR</td>\n",
       "      <td>Airtime</td>\n",
       "      <td>OM</td>\n",
       "      <td>XOF</td>\n",
       "      <td>1000.0</td>\n",
       "      <td>0.0</td>\n",
       "      <td>0.0</td>\n",
       "    </tr>\n",
       "    <tr>\n",
       "      <th>9999</th>\n",
       "      <td>2021-12-30 11:42:00</td>\n",
       "      <td>CI</td>\n",
       "      <td>Wiz</td>\n",
       "      <td>Airtime</td>\n",
       "      <td>MOMO</td>\n",
       "      <td>XOF</td>\n",
       "      <td>2545.0</td>\n",
       "      <td>0.0</td>\n",
       "      <td>0.0</td>\n",
       "    </tr>\n",
       "  </tbody>\n",
       "</table>\n",
       "</div>"
      ],
      "text/plain": [
       "        date_transaction pays_de_transaction marchand  produit operateur  \\\n",
       "9995 2021-11-28 08:19:00                  CI      YUP  Airtime        OM   \n",
       "9996 2021-11-26 17:06:00                  CI      YUP  Airtime        OM   \n",
       "9997 2021-11-25 11:22:00                  CI      YUP  Airtime        OM   \n",
       "9998 2021-10-19 09:23:00                  CI      AFR  Airtime        OM   \n",
       "9999 2021-12-30 11:42:00                  CI      Wiz  Airtime      MOMO   \n",
       "\n",
       "     devise  montant  commission_operateur  commission_cinetpay  \n",
       "9995    XOF    200.0                   0.0                  0.0  \n",
       "9996    XOF    500.0                   0.0                  0.0  \n",
       "9997    XOF    150.0                   0.0                  0.0  \n",
       "9998    XOF   1000.0                   0.0                  0.0  \n",
       "9999    XOF   2545.0                   0.0                  0.0  "
      ]
     },
     "execution_count": 109,
     "metadata": {},
     "output_type": "execute_result"
    }
   ],
   "source": [
    "FusionDesDonnees = imputmissingvalue(FusionDesDonnees,colnum,0)\n",
    "FusionDesDonnees.tail()"
   ]
  },
  {
   "cell_type": "markdown",
   "id": "c994e5a3",
   "metadata": {},
   "source": [
    "####  Créons une fonction pour formater en date"
   ]
  },
  {
   "cell_type": "code",
   "execution_count": 110,
   "id": "cb1e4b6f",
   "metadata": {},
   "outputs": [
    {
     "data": {
      "text/html": [
       "<div>\n",
       "<style scoped>\n",
       "    .dataframe tbody tr th:only-of-type {\n",
       "        vertical-align: middle;\n",
       "    }\n",
       "\n",
       "    .dataframe tbody tr th {\n",
       "        vertical-align: top;\n",
       "    }\n",
       "\n",
       "    .dataframe thead th {\n",
       "        text-align: right;\n",
       "    }\n",
       "</style>\n",
       "<table border=\"1\" class=\"dataframe\">\n",
       "  <thead>\n",
       "    <tr style=\"text-align: right;\">\n",
       "      <th></th>\n",
       "      <th>date_transaction</th>\n",
       "      <th>pays_de_transaction</th>\n",
       "      <th>marchand</th>\n",
       "      <th>produit</th>\n",
       "      <th>operateur</th>\n",
       "      <th>devise</th>\n",
       "      <th>montant</th>\n",
       "      <th>commission_operateur</th>\n",
       "      <th>commission_cinetpay</th>\n",
       "    </tr>\n",
       "  </thead>\n",
       "  <tbody>\n",
       "    <tr>\n",
       "      <th>0</th>\n",
       "      <td>2021-07-08 17:45:47</td>\n",
       "      <td>CI</td>\n",
       "      <td>DDV</td>\n",
       "      <td>Payin</td>\n",
       "      <td>DDVAOMCI</td>\n",
       "      <td>XOF</td>\n",
       "      <td>2000.0</td>\n",
       "      <td>30.0</td>\n",
       "      <td>0.0</td>\n",
       "    </tr>\n",
       "    <tr>\n",
       "      <th>1</th>\n",
       "      <td>2021-07-02 22:02:08</td>\n",
       "      <td>CI</td>\n",
       "      <td>DDV</td>\n",
       "      <td>Payin</td>\n",
       "      <td>DDVAVISAM</td>\n",
       "      <td>XOF</td>\n",
       "      <td>2000.0</td>\n",
       "      <td>30.0</td>\n",
       "      <td>10.0</td>\n",
       "    </tr>\n",
       "    <tr>\n",
       "      <th>2</th>\n",
       "      <td>2021-12-06 23:11:20</td>\n",
       "      <td>SN</td>\n",
       "      <td>BET</td>\n",
       "      <td>Payin</td>\n",
       "      <td>OMSN</td>\n",
       "      <td>XOF</td>\n",
       "      <td>1000.0</td>\n",
       "      <td>10.0</td>\n",
       "      <td>30.0</td>\n",
       "    </tr>\n",
       "    <tr>\n",
       "      <th>3</th>\n",
       "      <td>2022-01-06 10:39:43</td>\n",
       "      <td>CI</td>\n",
       "      <td>DDV</td>\n",
       "      <td>Payin</td>\n",
       "      <td>DDVAVISAM</td>\n",
       "      <td>XOF</td>\n",
       "      <td>2000.0</td>\n",
       "      <td>30.0</td>\n",
       "      <td>10.0</td>\n",
       "    </tr>\n",
       "    <tr>\n",
       "      <th>4</th>\n",
       "      <td>2021-07-03 19:39:20</td>\n",
       "      <td>SN</td>\n",
       "      <td>BET</td>\n",
       "      <td>Payin</td>\n",
       "      <td>OMSN</td>\n",
       "      <td>XOF</td>\n",
       "      <td>500.0</td>\n",
       "      <td>5.0</td>\n",
       "      <td>15.0</td>\n",
       "    </tr>\n",
       "    <tr>\n",
       "      <th>...</th>\n",
       "      <td>...</td>\n",
       "      <td>...</td>\n",
       "      <td>...</td>\n",
       "      <td>...</td>\n",
       "      <td>...</td>\n",
       "      <td>...</td>\n",
       "      <td>...</td>\n",
       "      <td>...</td>\n",
       "      <td>...</td>\n",
       "    </tr>\n",
       "    <tr>\n",
       "      <th>9995</th>\n",
       "      <td>2021-11-28 08:19:00</td>\n",
       "      <td>CI</td>\n",
       "      <td>YUP</td>\n",
       "      <td>Airtime</td>\n",
       "      <td>OM</td>\n",
       "      <td>XOF</td>\n",
       "      <td>200.0</td>\n",
       "      <td>0.0</td>\n",
       "      <td>0.0</td>\n",
       "    </tr>\n",
       "    <tr>\n",
       "      <th>9996</th>\n",
       "      <td>2021-11-26 17:06:00</td>\n",
       "      <td>CI</td>\n",
       "      <td>YUP</td>\n",
       "      <td>Airtime</td>\n",
       "      <td>OM</td>\n",
       "      <td>XOF</td>\n",
       "      <td>500.0</td>\n",
       "      <td>0.0</td>\n",
       "      <td>0.0</td>\n",
       "    </tr>\n",
       "    <tr>\n",
       "      <th>9997</th>\n",
       "      <td>2021-11-25 11:22:00</td>\n",
       "      <td>CI</td>\n",
       "      <td>YUP</td>\n",
       "      <td>Airtime</td>\n",
       "      <td>OM</td>\n",
       "      <td>XOF</td>\n",
       "      <td>150.0</td>\n",
       "      <td>0.0</td>\n",
       "      <td>0.0</td>\n",
       "    </tr>\n",
       "    <tr>\n",
       "      <th>9998</th>\n",
       "      <td>2021-10-19 09:23:00</td>\n",
       "      <td>CI</td>\n",
       "      <td>AFR</td>\n",
       "      <td>Airtime</td>\n",
       "      <td>OM</td>\n",
       "      <td>XOF</td>\n",
       "      <td>1000.0</td>\n",
       "      <td>0.0</td>\n",
       "      <td>0.0</td>\n",
       "    </tr>\n",
       "    <tr>\n",
       "      <th>9999</th>\n",
       "      <td>2021-12-30 11:42:00</td>\n",
       "      <td>CI</td>\n",
       "      <td>Wiz</td>\n",
       "      <td>Airtime</td>\n",
       "      <td>MOMO</td>\n",
       "      <td>XOF</td>\n",
       "      <td>2545.0</td>\n",
       "      <td>0.0</td>\n",
       "      <td>0.0</td>\n",
       "    </tr>\n",
       "  </tbody>\n",
       "</table>\n",
       "<p>30000 rows × 9 columns</p>\n",
       "</div>"
      ],
      "text/plain": [
       "        date_transaction pays_de_transaction marchand  produit  operateur  \\\n",
       "0    2021-07-08 17:45:47                  CI      DDV    Payin   DDVAOMCI   \n",
       "1    2021-07-02 22:02:08                  CI      DDV    Payin  DDVAVISAM   \n",
       "2    2021-12-06 23:11:20                  SN      BET    Payin       OMSN   \n",
       "3    2022-01-06 10:39:43                  CI      DDV    Payin  DDVAVISAM   \n",
       "4    2021-07-03 19:39:20                  SN      BET    Payin       OMSN   \n",
       "...                  ...                 ...      ...      ...        ...   \n",
       "9995 2021-11-28 08:19:00                  CI      YUP  Airtime         OM   \n",
       "9996 2021-11-26 17:06:00                  CI      YUP  Airtime         OM   \n",
       "9997 2021-11-25 11:22:00                  CI      YUP  Airtime         OM   \n",
       "9998 2021-10-19 09:23:00                  CI      AFR  Airtime         OM   \n",
       "9999 2021-12-30 11:42:00                  CI      Wiz  Airtime       MOMO   \n",
       "\n",
       "     devise  montant  commission_operateur  commission_cinetpay  \n",
       "0       XOF   2000.0                  30.0                  0.0  \n",
       "1       XOF   2000.0                  30.0                 10.0  \n",
       "2       XOF   1000.0                  10.0                 30.0  \n",
       "3       XOF   2000.0                  30.0                 10.0  \n",
       "4       XOF    500.0                   5.0                 15.0  \n",
       "...     ...      ...                   ...                  ...  \n",
       "9995    XOF    200.0                   0.0                  0.0  \n",
       "9996    XOF    500.0                   0.0                  0.0  \n",
       "9997    XOF    150.0                   0.0                  0.0  \n",
       "9998    XOF   1000.0                   0.0                  0.0  \n",
       "9999    XOF   2545.0                   0.0                  0.0  \n",
       "\n",
       "[30000 rows x 9 columns]"
      ]
     },
     "execution_count": 110,
     "metadata": {},
     "output_type": "execute_result"
    }
   ],
   "source": [
    "def dateformat(data, col):\n",
    "    data[col] = pd.to_datetime(data[col], format='%Y-%m-%d %H:%M:%S')\n",
    "    return data\n",
    "\n",
    "#Appel de notre fonction\n",
    "FusionDesDonnees = dateformat(FusionDesDonnees,'date_transaction')\n",
    "FusionDesDonnees"
   ]
  },
  {
   "cell_type": "markdown",
   "id": "16bec916",
   "metadata": {},
   "source": [
    "### fonction qui tranforme le type d'une colonne en float\n",
    "\n",
    "**Les données sont bien formatés dans notre cas mais nous formatons pour des cas critiques à venir**"
   ]
  },
  {
   "cell_type": "code",
   "execution_count": 111,
   "id": "04497324",
   "metadata": {},
   "outputs": [
    {
     "data": {
      "text/plain": [
       "date_transaction        datetime64[ns]\n",
       "pays_de_transaction             object\n",
       "marchand                        object\n",
       "produit                         object\n",
       "operateur                       object\n",
       "devise                          object\n",
       "montant                        float64\n",
       "commission_operateur           float64\n",
       "commission_cinetpay            float64\n",
       "dtype: object"
      ]
     },
     "execution_count": 111,
     "metadata": {},
     "output_type": "execute_result"
    }
   ],
   "source": [
    "def transtype(data, cols):\n",
    "    for col in cols:\n",
    "        data[col] = data[col].astype(np.float64)\n",
    "    return data\n",
    "\n",
    "FusionDesDonnees = transtype(FusionDesDonnees, colnum)\n",
    "FusionDesDonnees.dtypes         "
   ]
  },
  {
   "cell_type": "markdown",
   "id": "79ff3cea",
   "metadata": {},
   "source": [
    "# COMBINAISON DES FONCTIONS"
   ]
  },
  {
   "cell_type": "code",
   "execution_count": 132,
   "id": "c3989067",
   "metadata": {},
   "outputs": [],
   "source": [
    "def imputmissingvalue(data, cols, val):\n",
    "    valuesinput = dict.fromkeys(cols,val)\n",
    "    data.fillna(valuesinput, inplace=True)\n",
    "    return data\n",
    "\n",
    "\n",
    "def dateformat(data, col):\n",
    "    data[col] = pd.to_datetime(data[col], format='%Y-%m-%d %H:%M:%S')\n",
    "    return data\n",
    "\n",
    "def transtype(data, cols):\n",
    "    for col in cols:\n",
    "        data[col] = data[col].astype(np.float64)\n",
    "    return data\n",
    "\n",
    "def traitement(data,cols,val):\n",
    "    data = transtype(dateformat(imputmissingvalue(data,cols,val),'date_transaction'),cols)\n",
    "    data.drop_duplicates(keep = 'first', inplace=True)\n",
    "    return data\n",
    "\n",
    "    "
   ]
  },
  {
   "cell_type": "code",
   "execution_count": 133,
   "id": "8f901a76",
   "metadata": {},
   "outputs": [
    {
     "data": {
      "text/html": [
       "<div>\n",
       "<style scoped>\n",
       "    .dataframe tbody tr th:only-of-type {\n",
       "        vertical-align: middle;\n",
       "    }\n",
       "\n",
       "    .dataframe tbody tr th {\n",
       "        vertical-align: top;\n",
       "    }\n",
       "\n",
       "    .dataframe thead th {\n",
       "        text-align: right;\n",
       "    }\n",
       "</style>\n",
       "<table border=\"1\" class=\"dataframe\">\n",
       "  <thead>\n",
       "    <tr style=\"text-align: right;\">\n",
       "      <th></th>\n",
       "      <th>date_transaction</th>\n",
       "      <th>pays_de_transaction</th>\n",
       "      <th>marchand</th>\n",
       "      <th>produit</th>\n",
       "      <th>operateur</th>\n",
       "      <th>devise</th>\n",
       "      <th>montant</th>\n",
       "      <th>commission_operateur</th>\n",
       "      <th>commission_cinetpay</th>\n",
       "    </tr>\n",
       "  </thead>\n",
       "  <tbody>\n",
       "    <tr>\n",
       "      <th>0</th>\n",
       "      <td>2021-07-08 17:45:47</td>\n",
       "      <td>CI</td>\n",
       "      <td>DDV</td>\n",
       "      <td>Payin</td>\n",
       "      <td>DDVAOMCI</td>\n",
       "      <td>XOF</td>\n",
       "      <td>2000.0</td>\n",
       "      <td>30.0</td>\n",
       "      <td>0.0</td>\n",
       "    </tr>\n",
       "    <tr>\n",
       "      <th>1</th>\n",
       "      <td>2021-07-02 22:02:08</td>\n",
       "      <td>CI</td>\n",
       "      <td>DDV</td>\n",
       "      <td>Payin</td>\n",
       "      <td>DDVAVISAM</td>\n",
       "      <td>XOF</td>\n",
       "      <td>2000.0</td>\n",
       "      <td>30.0</td>\n",
       "      <td>10.0</td>\n",
       "    </tr>\n",
       "    <tr>\n",
       "      <th>2</th>\n",
       "      <td>2021-12-06 23:11:20</td>\n",
       "      <td>SN</td>\n",
       "      <td>BET</td>\n",
       "      <td>Payin</td>\n",
       "      <td>OMSN</td>\n",
       "      <td>XOF</td>\n",
       "      <td>1000.0</td>\n",
       "      <td>10.0</td>\n",
       "      <td>30.0</td>\n",
       "    </tr>\n",
       "    <tr>\n",
       "      <th>3</th>\n",
       "      <td>2022-01-06 10:39:43</td>\n",
       "      <td>CI</td>\n",
       "      <td>DDV</td>\n",
       "      <td>Payin</td>\n",
       "      <td>DDVAVISAM</td>\n",
       "      <td>XOF</td>\n",
       "      <td>2000.0</td>\n",
       "      <td>30.0</td>\n",
       "      <td>10.0</td>\n",
       "    </tr>\n",
       "    <tr>\n",
       "      <th>4</th>\n",
       "      <td>2021-07-03 19:39:20</td>\n",
       "      <td>SN</td>\n",
       "      <td>BET</td>\n",
       "      <td>Payin</td>\n",
       "      <td>OMSN</td>\n",
       "      <td>XOF</td>\n",
       "      <td>500.0</td>\n",
       "      <td>5.0</td>\n",
       "      <td>15.0</td>\n",
       "    </tr>\n",
       "    <tr>\n",
       "      <th>...</th>\n",
       "      <td>...</td>\n",
       "      <td>...</td>\n",
       "      <td>...</td>\n",
       "      <td>...</td>\n",
       "      <td>...</td>\n",
       "      <td>...</td>\n",
       "      <td>...</td>\n",
       "      <td>...</td>\n",
       "      <td>...</td>\n",
       "    </tr>\n",
       "    <tr>\n",
       "      <th>9995</th>\n",
       "      <td>2021-11-28 08:19:00</td>\n",
       "      <td>CI</td>\n",
       "      <td>YUP</td>\n",
       "      <td>Airtime</td>\n",
       "      <td>OM</td>\n",
       "      <td>XOF</td>\n",
       "      <td>200.0</td>\n",
       "      <td>0.0</td>\n",
       "      <td>0.0</td>\n",
       "    </tr>\n",
       "    <tr>\n",
       "      <th>9996</th>\n",
       "      <td>2021-11-26 17:06:00</td>\n",
       "      <td>CI</td>\n",
       "      <td>YUP</td>\n",
       "      <td>Airtime</td>\n",
       "      <td>OM</td>\n",
       "      <td>XOF</td>\n",
       "      <td>500.0</td>\n",
       "      <td>0.0</td>\n",
       "      <td>0.0</td>\n",
       "    </tr>\n",
       "    <tr>\n",
       "      <th>9997</th>\n",
       "      <td>2021-11-25 11:22:00</td>\n",
       "      <td>CI</td>\n",
       "      <td>YUP</td>\n",
       "      <td>Airtime</td>\n",
       "      <td>OM</td>\n",
       "      <td>XOF</td>\n",
       "      <td>150.0</td>\n",
       "      <td>0.0</td>\n",
       "      <td>0.0</td>\n",
       "    </tr>\n",
       "    <tr>\n",
       "      <th>9998</th>\n",
       "      <td>2021-10-19 09:23:00</td>\n",
       "      <td>CI</td>\n",
       "      <td>AFR</td>\n",
       "      <td>Airtime</td>\n",
       "      <td>OM</td>\n",
       "      <td>XOF</td>\n",
       "      <td>1000.0</td>\n",
       "      <td>0.0</td>\n",
       "      <td>0.0</td>\n",
       "    </tr>\n",
       "    <tr>\n",
       "      <th>9999</th>\n",
       "      <td>2021-12-30 11:42:00</td>\n",
       "      <td>CI</td>\n",
       "      <td>Wiz</td>\n",
       "      <td>Airtime</td>\n",
       "      <td>MOMO</td>\n",
       "      <td>XOF</td>\n",
       "      <td>2545.0</td>\n",
       "      <td>0.0</td>\n",
       "      <td>0.0</td>\n",
       "    </tr>\n",
       "  </tbody>\n",
       "</table>\n",
       "<p>29611 rows × 9 columns</p>\n",
       "</div>"
      ],
      "text/plain": [
       "        date_transaction pays_de_transaction marchand  produit  operateur  \\\n",
       "0    2021-07-08 17:45:47                  CI      DDV    Payin   DDVAOMCI   \n",
       "1    2021-07-02 22:02:08                  CI      DDV    Payin  DDVAVISAM   \n",
       "2    2021-12-06 23:11:20                  SN      BET    Payin       OMSN   \n",
       "3    2022-01-06 10:39:43                  CI      DDV    Payin  DDVAVISAM   \n",
       "4    2021-07-03 19:39:20                  SN      BET    Payin       OMSN   \n",
       "...                  ...                 ...      ...      ...        ...   \n",
       "9995 2021-11-28 08:19:00                  CI      YUP  Airtime         OM   \n",
       "9996 2021-11-26 17:06:00                  CI      YUP  Airtime         OM   \n",
       "9997 2021-11-25 11:22:00                  CI      YUP  Airtime         OM   \n",
       "9998 2021-10-19 09:23:00                  CI      AFR  Airtime         OM   \n",
       "9999 2021-12-30 11:42:00                  CI      Wiz  Airtime       MOMO   \n",
       "\n",
       "     devise  montant  commission_operateur  commission_cinetpay  \n",
       "0       XOF   2000.0                  30.0                  0.0  \n",
       "1       XOF   2000.0                  30.0                 10.0  \n",
       "2       XOF   1000.0                  10.0                 30.0  \n",
       "3       XOF   2000.0                  30.0                 10.0  \n",
       "4       XOF    500.0                   5.0                 15.0  \n",
       "...     ...      ...                   ...                  ...  \n",
       "9995    XOF    200.0                   0.0                  0.0  \n",
       "9996    XOF    500.0                   0.0                  0.0  \n",
       "9997    XOF    150.0                   0.0                  0.0  \n",
       "9998    XOF   1000.0                   0.0                  0.0  \n",
       "9999    XOF   2545.0                   0.0                  0.0  \n",
       "\n",
       "[29611 rows x 9 columns]"
      ]
     },
     "execution_count": 133,
     "metadata": {},
     "output_type": "execute_result"
    }
   ],
   "source": [
    "FusionDesDonnees = traitement(PayIn.append(PayOut).append(Airtime),colnum,0)\n",
    "FusionDesDonnees"
   ]
  },
  {
   "cell_type": "code",
   "execution_count": 134,
   "id": "a9ded28b",
   "metadata": {},
   "outputs": [
    {
     "data": {
      "text/plain": [
       "date_transaction        datetime64[ns]\n",
       "pays_de_transaction             object\n",
       "marchand                        object\n",
       "produit                         object\n",
       "operateur                       object\n",
       "devise                          object\n",
       "montant                        float64\n",
       "commission_operateur           float64\n",
       "commission_cinetpay            float64\n",
       "dtype: object"
      ]
     },
     "execution_count": 134,
     "metadata": {},
     "output_type": "execute_result"
    }
   ],
   "source": [
    "FusionDesDonnees.dtypes"
   ]
  },
  {
   "cell_type": "code",
   "execution_count": 135,
   "id": "ea8c4b65",
   "metadata": {},
   "outputs": [
    {
     "data": {
      "application/vnd.jupyter.widget-view+json": {
       "model_id": "37eb260392014d93af84631668bcfcd5",
       "version_major": 2,
       "version_minor": 0
      },
      "text/plain": [
       "Summarize dataset:   0%|          | 0/5 [00:00<?, ?it/s]"
      ]
     },
     "metadata": {},
     "output_type": "display_data"
    },
    {
     "name": "stderr",
     "output_type": "stream",
     "text": [
      "C:\\Users\\RCARINE\\anaconda3\\lib\\site-packages\\pandas_profiling\\model\\correlations.py:67: UserWarning: There was an attempt to calculate the auto correlation, but this failed.\n",
      "To hide this warning, disable the calculation\n",
      "(using `df.profile_report(correlations={\"auto\": {\"calculate\": False}})`\n",
      "If this is problematic for your use case, please report this as an issue:\n",
      "https://github.com/ydataai/pandas-profiling/issues\n",
      "(include the error message: 'cannot reindex from a duplicate axis')\n",
      "  warnings.warn(\n"
     ]
    },
    {
     "data": {
      "application/vnd.jupyter.widget-view+json": {
       "model_id": "a56e0e3427a149d497e7a3f21004dace",
       "version_major": 2,
       "version_minor": 0
      },
      "text/plain": [
       "Generate report structure:   0%|          | 0/1 [00:00<?, ?it/s]"
      ]
     },
     "metadata": {},
     "output_type": "display_data"
    },
    {
     "data": {
      "application/vnd.jupyter.widget-view+json": {
       "model_id": "6bd660aa778241eeb9db12ff4ec499c5",
       "version_major": 2,
       "version_minor": 0
      },
      "text/plain": [
       "Render HTML:   0%|          | 0/1 [00:00<?, ?it/s]"
      ]
     },
     "metadata": {},
     "output_type": "display_data"
    },
    {
     "data": {
      "application/vnd.jupyter.widget-view+json": {
       "model_id": "37b778510d324479a1147c4c78df1c6c",
       "version_major": 2,
       "version_minor": 0
      },
      "text/plain": [
       "Export report to file:   0%|          | 0/1 [00:00<?, ?it/s]"
      ]
     },
     "metadata": {},
     "output_type": "display_data"
    }
   ],
   "source": [
    "profFusionDesDonnees = ProfileReport(FusionDesDonnees)\n",
    "profFusionDesDonnees.to_file(output_file='rapportFusionDesDonnees.html')"
   ]
  },
  {
   "cell_type": "code",
   "execution_count": null,
   "id": "a2f57d00",
   "metadata": {},
   "outputs": [],
   "source": []
  },
  {
   "cell_type": "code",
   "execution_count": null,
   "id": "94b59cbf",
   "metadata": {},
   "outputs": [],
   "source": []
  },
  {
   "cell_type": "code",
   "execution_count": null,
   "id": "15d52097",
   "metadata": {},
   "outputs": [],
   "source": []
  },
  {
   "cell_type": "code",
   "execution_count": null,
   "id": "8c3c9a9c",
   "metadata": {},
   "outputs": [],
   "source": []
  },
  {
   "cell_type": "code",
   "execution_count": null,
   "id": "a69ceec7",
   "metadata": {},
   "outputs": [],
   "source": []
  }
 ],
 "metadata": {
  "kernelspec": {
   "display_name": "Python 3 (ipykernel)",
   "language": "python",
   "name": "python3"
  },
  "language_info": {
   "codemirror_mode": {
    "name": "ipython",
    "version": 3
   },
   "file_extension": ".py",
   "mimetype": "text/x-python",
   "name": "python",
   "nbconvert_exporter": "python",
   "pygments_lexer": "ipython3",
   "version": "3.9.7"
  }
 },
 "nbformat": 4,
 "nbformat_minor": 5
}
