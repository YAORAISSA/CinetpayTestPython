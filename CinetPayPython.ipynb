{
 "cells": [
  {
   "cell_type": "code",
   "execution_count": 27,
   "id": "18f428f2",
   "metadata": {},
   "outputs": [
    {
     "name": "stdout",
     "output_type": "stream",
     "text": [
      "Requirement already satisfied: pandas-profiling in c:\\users\\rcarine\\anaconda3\\lib\\site-packages (3.6.6)\n",
      "Requirement already satisfied: ydata-profiling in c:\\users\\rcarine\\anaconda3\\lib\\site-packages (from pandas-profiling) (4.1.2)\n",
      "Requirement already satisfied: htmlmin==0.1.12 in c:\\users\\rcarine\\anaconda3\\lib\\site-packages (from ydata-profiling->pandas-profiling) (0.1.12)\n",
      "Requirement already satisfied: phik<0.13,>=0.11.1 in c:\\users\\rcarine\\anaconda3\\lib\\site-packages (from ydata-profiling->pandas-profiling) (0.12.3)\n",
      "Requirement already satisfied: visions[type_image_path]==0.7.5 in c:\\users\\rcarine\\anaconda3\\lib\\site-packages (from ydata-profiling->pandas-profiling) (0.7.5)\n",
      "Requirement already satisfied: numpy<1.24,>=1.16.0 in c:\\users\\rcarine\\anaconda3\\lib\\site-packages (from ydata-profiling->pandas-profiling) (1.20.3)\n",
      "Requirement already satisfied: jinja2<3.2,>=2.11.1 in c:\\users\\rcarine\\anaconda3\\lib\\site-packages (from ydata-profiling->pandas-profiling) (2.11.3)\n",
      "Requirement already satisfied: multimethod<1.10,>=1.4 in c:\\users\\rcarine\\anaconda3\\lib\\site-packages (from ydata-profiling->pandas-profiling) (1.9.1)\n",
      "Requirement already satisfied: requests<2.29,>=2.24.0 in c:\\users\\rcarine\\anaconda3\\lib\\site-packages (from ydata-profiling->pandas-profiling) (2.26.0)\n",
      "Requirement already satisfied: pandas!=1.4.0,<1.6,>1.1 in c:\\users\\rcarine\\anaconda3\\lib\\site-packages (from ydata-profiling->pandas-profiling) (1.3.4)\n",
      "Requirement already satisfied: PyYAML<6.1,>=5.0.0 in c:\\users\\rcarine\\anaconda3\\lib\\site-packages (from ydata-profiling->pandas-profiling) (6.0)\n",
      "Requirement already satisfied: matplotlib<3.7,>=3.2 in c:\\users\\rcarine\\anaconda3\\lib\\site-packages (from ydata-profiling->pandas-profiling) (3.4.3)\n",
      "Requirement already satisfied: seaborn<0.13,>=0.10.1 in c:\\users\\rcarine\\anaconda3\\lib\\site-packages (from ydata-profiling->pandas-profiling) (0.11.2)\n",
      "Requirement already satisfied: statsmodels<0.14,>=0.13.2 in c:\\users\\rcarine\\anaconda3\\lib\\site-packages (from ydata-profiling->pandas-profiling) (0.13.5)\n",
      "Requirement already satisfied: scipy<1.10,>=1.4.1 in c:\\users\\rcarine\\anaconda3\\lib\\site-packages (from ydata-profiling->pandas-profiling) (1.7.1)\n",
      "Requirement already satisfied: tqdm<4.65,>=4.48.2 in c:\\users\\rcarine\\anaconda3\\lib\\site-packages (from ydata-profiling->pandas-profiling) (4.62.3)\n",
      "Requirement already satisfied: imagehash==4.3.1 in c:\\users\\rcarine\\anaconda3\\lib\\site-packages (from ydata-profiling->pandas-profiling) (4.3.1)\n",
      "Requirement already satisfied: pydantic<1.11,>=1.8.1 in c:\\users\\rcarine\\anaconda3\\lib\\site-packages (from ydata-profiling->pandas-profiling) (1.10.7)\n",
      "Requirement already satisfied: typeguard<2.14,>=2.13.2 in c:\\users\\rcarine\\anaconda3\\lib\\site-packages (from ydata-profiling->pandas-profiling) (2.13.3)\n",
      "Requirement already satisfied: pillow in c:\\users\\rcarine\\anaconda3\\lib\\site-packages (from imagehash==4.3.1->ydata-profiling->pandas-profiling) (8.4.0)\n",
      "Requirement already satisfied: PyWavelets in c:\\users\\rcarine\\anaconda3\\lib\\site-packages (from imagehash==4.3.1->ydata-profiling->pandas-profiling) (1.1.1)\n",
      "Requirement already satisfied: attrs>=19.3.0 in c:\\users\\rcarine\\anaconda3\\lib\\site-packages (from visions[type_image_path]==0.7.5->ydata-profiling->pandas-profiling) (21.2.0)\n",
      "Requirement already satisfied: networkx>=2.4 in c:\\users\\rcarine\\anaconda3\\lib\\site-packages (from visions[type_image_path]==0.7.5->ydata-profiling->pandas-profiling) (2.6.3)\n",
      "Requirement already satisfied: tangled-up-in-unicode>=0.0.4 in c:\\users\\rcarine\\anaconda3\\lib\\site-packages (from visions[type_image_path]==0.7.5->ydata-profiling->pandas-profiling) (0.2.0)\n",
      "Requirement already satisfied: MarkupSafe>=0.23 in c:\\users\\rcarine\\anaconda3\\lib\\site-packages (from jinja2<3.2,>=2.11.1->ydata-profiling->pandas-profiling) (1.1.1)\n",
      "Requirement already satisfied: kiwisolver>=1.0.1 in c:\\users\\rcarine\\anaconda3\\lib\\site-packages (from matplotlib<3.7,>=3.2->ydata-profiling->pandas-profiling) (1.3.1)\n",
      "Requirement already satisfied: pyparsing>=2.2.1 in c:\\users\\rcarine\\anaconda3\\lib\\site-packages (from matplotlib<3.7,>=3.2->ydata-profiling->pandas-profiling) (3.0.4)\n",
      "Requirement already satisfied: python-dateutil>=2.7 in c:\\users\\rcarine\\anaconda3\\lib\\site-packages (from matplotlib<3.7,>=3.2->ydata-profiling->pandas-profiling) (2.8.2)\n",
      "Requirement already satisfied: cycler>=0.10 in c:\\users\\rcarine\\anaconda3\\lib\\site-packages (from matplotlib<3.7,>=3.2->ydata-profiling->pandas-profiling) (0.10.0)\n",
      "Requirement already satisfied: six in c:\\users\\rcarine\\anaconda3\\lib\\site-packages (from cycler>=0.10->matplotlib<3.7,>=3.2->ydata-profiling->pandas-profiling) (1.16.0)\n",
      "Requirement already satisfied: pytz>=2017.3 in c:\\users\\rcarine\\anaconda3\\lib\\site-packages (from pandas!=1.4.0,<1.6,>1.1->ydata-profiling->pandas-profiling) (2021.3)\n",
      "Requirement already satisfied: joblib>=0.14.1 in c:\\users\\rcarine\\anaconda3\\lib\\site-packages (from phik<0.13,>=0.11.1->ydata-profiling->pandas-profiling) (1.1.0)\n",
      "Requirement already satisfied: typing-extensions>=4.2.0 in c:\\users\\rcarine\\anaconda3\\lib\\site-packages (from pydantic<1.11,>=1.8.1->ydata-profiling->pandas-profiling) (4.3.0)\n",
      "Requirement already satisfied: certifi>=2017.4.17 in c:\\users\\rcarine\\anaconda3\\lib\\site-packages (from requests<2.29,>=2.24.0->ydata-profiling->pandas-profiling) (2021.10.8)\n",
      "Requirement already satisfied: urllib3<1.27,>=1.21.1 in c:\\users\\rcarine\\anaconda3\\lib\\site-packages (from requests<2.29,>=2.24.0->ydata-profiling->pandas-profiling) (1.26.7)\n",
      "Requirement already satisfied: idna<4,>=2.5 in c:\\users\\rcarine\\anaconda3\\lib\\site-packages (from requests<2.29,>=2.24.0->ydata-profiling->pandas-profiling) (3.2)\n",
      "Requirement already satisfied: charset-normalizer~=2.0.0 in c:\\users\\rcarine\\anaconda3\\lib\\site-packages (from requests<2.29,>=2.24.0->ydata-profiling->pandas-profiling) (2.0.4)\n",
      "Requirement already satisfied: patsy>=0.5.2 in c:\\users\\rcarine\\anaconda3\\lib\\site-packages (from statsmodels<0.14,>=0.13.2->ydata-profiling->pandas-profiling) (0.5.2)\n",
      "Requirement already satisfied: packaging>=21.3 in c:\\users\\rcarine\\anaconda3\\lib\\site-packages (from statsmodels<0.14,>=0.13.2->ydata-profiling->pandas-profiling) (23.1)\n",
      "Requirement already satisfied: colorama in c:\\users\\rcarine\\anaconda3\\lib\\site-packages (from tqdm<4.65,>=4.48.2->ydata-profiling->pandas-profiling) (0.4.4)\n",
      "Note: you may need to restart the kernel to use updated packages.\n"
     ]
    }
   ],
   "source": [
    "pip install pandas-profiling"
   ]
  },
  {
   "cell_type": "code",
   "execution_count": 28,
   "id": "94067528",
   "metadata": {},
   "outputs": [],
   "source": [
    "import pandas as pd\n",
    "import matplotlib.pyplot as plt\n",
    "import numpy as np\n",
    "import plotly.graph_objects as go"
   ]
  },
  {
   "cell_type": "code",
   "execution_count": 29,
   "id": "54eae0a9",
   "metadata": {},
   "outputs": [
    {
     "data": {
      "text/html": [
       "<div>\n",
       "<style scoped>\n",
       "    .dataframe tbody tr th:only-of-type {\n",
       "        vertical-align: middle;\n",
       "    }\n",
       "\n",
       "    .dataframe tbody tr th {\n",
       "        vertical-align: top;\n",
       "    }\n",
       "\n",
       "    .dataframe thead th {\n",
       "        text-align: right;\n",
       "    }\n",
       "</style>\n",
       "<table border=\"1\" class=\"dataframe\">\n",
       "  <thead>\n",
       "    <tr style=\"text-align: right;\">\n",
       "      <th></th>\n",
       "      <th>date_transaction</th>\n",
       "      <th>pays_de_transaction</th>\n",
       "      <th>marchand</th>\n",
       "      <th>produit</th>\n",
       "      <th>operateur</th>\n",
       "      <th>devise</th>\n",
       "      <th>montant</th>\n",
       "      <th>commission_operateur</th>\n",
       "      <th>commission_cinetpay</th>\n",
       "    </tr>\n",
       "  </thead>\n",
       "  <tbody>\n",
       "    <tr>\n",
       "      <th>0</th>\n",
       "      <td>2021-07-08 17:45:47</td>\n",
       "      <td>CI</td>\n",
       "      <td>DDV</td>\n",
       "      <td>Payin</td>\n",
       "      <td>DDVAOMCI</td>\n",
       "      <td>XOF</td>\n",
       "      <td>2000.0</td>\n",
       "      <td>30.0</td>\n",
       "      <td>0.0</td>\n",
       "    </tr>\n",
       "    <tr>\n",
       "      <th>1</th>\n",
       "      <td>2021-07-02 22:02:08</td>\n",
       "      <td>CI</td>\n",
       "      <td>DDV</td>\n",
       "      <td>Payin</td>\n",
       "      <td>DDVAVISAM</td>\n",
       "      <td>XOF</td>\n",
       "      <td>2000.0</td>\n",
       "      <td>30.0</td>\n",
       "      <td>10.0</td>\n",
       "    </tr>\n",
       "    <tr>\n",
       "      <th>2</th>\n",
       "      <td>2021-12-06 23:11:20</td>\n",
       "      <td>SN</td>\n",
       "      <td>BET</td>\n",
       "      <td>Payin</td>\n",
       "      <td>OMSN</td>\n",
       "      <td>XOF</td>\n",
       "      <td>1000.0</td>\n",
       "      <td>10.0</td>\n",
       "      <td>30.0</td>\n",
       "    </tr>\n",
       "    <tr>\n",
       "      <th>3</th>\n",
       "      <td>2022-01-06 10:39:43</td>\n",
       "      <td>CI</td>\n",
       "      <td>DDV</td>\n",
       "      <td>Payin</td>\n",
       "      <td>DDVAVISAM</td>\n",
       "      <td>XOF</td>\n",
       "      <td>2000.0</td>\n",
       "      <td>30.0</td>\n",
       "      <td>10.0</td>\n",
       "    </tr>\n",
       "    <tr>\n",
       "      <th>4</th>\n",
       "      <td>2021-07-03 19:39:20</td>\n",
       "      <td>SN</td>\n",
       "      <td>BET</td>\n",
       "      <td>Payin</td>\n",
       "      <td>OMSN</td>\n",
       "      <td>XOF</td>\n",
       "      <td>500.0</td>\n",
       "      <td>5.0</td>\n",
       "      <td>15.0</td>\n",
       "    </tr>\n",
       "  </tbody>\n",
       "</table>\n",
       "</div>"
      ],
      "text/plain": [
       "     date_transaction pays_de_transaction marchand produit  operateur devise  \\\n",
       "0 2021-07-08 17:45:47                  CI      DDV   Payin   DDVAOMCI    XOF   \n",
       "1 2021-07-02 22:02:08                  CI      DDV   Payin  DDVAVISAM    XOF   \n",
       "2 2021-12-06 23:11:20                  SN      BET   Payin       OMSN    XOF   \n",
       "3 2022-01-06 10:39:43                  CI      DDV   Payin  DDVAVISAM    XOF   \n",
       "4 2021-07-03 19:39:20                  SN      BET   Payin       OMSN    XOF   \n",
       "\n",
       "   montant  commission_operateur  commission_cinetpay  \n",
       "0   2000.0                  30.0                  0.0  \n",
       "1   2000.0                  30.0                 10.0  \n",
       "2   1000.0                  10.0                 30.0  \n",
       "3   2000.0                  30.0                 10.0  \n",
       "4    500.0                   5.0                 15.0  "
      ]
     },
     "execution_count": 29,
     "metadata": {},
     "output_type": "execute_result"
    }
   ],
   "source": [
    "PayIn = pd.read_excel('PayIn.xlsx')\n",
    "PayIn.head()"
   ]
  },
  {
   "cell_type": "code",
   "execution_count": null,
   "id": "f3aa7640",
   "metadata": {},
   "outputs": [],
   "source": []
  },
  {
   "cell_type": "code",
   "execution_count": 30,
   "id": "d8fe720e",
   "metadata": {},
   "outputs": [
    {
     "data": {
      "text/html": [
       "<div>\n",
       "<style scoped>\n",
       "    .dataframe tbody tr th:only-of-type {\n",
       "        vertical-align: middle;\n",
       "    }\n",
       "\n",
       "    .dataframe tbody tr th {\n",
       "        vertical-align: top;\n",
       "    }\n",
       "\n",
       "    .dataframe thead th {\n",
       "        text-align: right;\n",
       "    }\n",
       "</style>\n",
       "<table border=\"1\" class=\"dataframe\">\n",
       "  <thead>\n",
       "    <tr style=\"text-align: right;\">\n",
       "      <th></th>\n",
       "      <th>date_transaction</th>\n",
       "      <th>pays_de_transaction</th>\n",
       "      <th>marchand</th>\n",
       "      <th>produit</th>\n",
       "      <th>operateur</th>\n",
       "      <th>devise</th>\n",
       "      <th>montant</th>\n",
       "    </tr>\n",
       "  </thead>\n",
       "  <tbody>\n",
       "    <tr>\n",
       "      <th>0</th>\n",
       "      <td>2021-09-10 13:43:30</td>\n",
       "      <td>SN</td>\n",
       "      <td>BET</td>\n",
       "      <td>Payout</td>\n",
       "      <td>OMSN</td>\n",
       "      <td>XOF</td>\n",
       "      <td>6000.0</td>\n",
       "    </tr>\n",
       "    <tr>\n",
       "      <th>1</th>\n",
       "      <td>2021-10-01 12:36:36</td>\n",
       "      <td>CM</td>\n",
       "      <td>STA</td>\n",
       "      <td>Payout</td>\n",
       "      <td>MTNCM</td>\n",
       "      <td>XAF</td>\n",
       "      <td>1500.0</td>\n",
       "    </tr>\n",
       "    <tr>\n",
       "      <th>2</th>\n",
       "      <td>2021-04-18 18:03:01</td>\n",
       "      <td>SN</td>\n",
       "      <td>BET</td>\n",
       "      <td>Payout</td>\n",
       "      <td>OMSN</td>\n",
       "      <td>XOF</td>\n",
       "      <td>5000.0</td>\n",
       "    </tr>\n",
       "    <tr>\n",
       "      <th>3</th>\n",
       "      <td>2020-01-19 16:55:00</td>\n",
       "      <td>ML</td>\n",
       "      <td>Pre</td>\n",
       "      <td>Payout</td>\n",
       "      <td>OMML</td>\n",
       "      <td>XOF</td>\n",
       "      <td>300.0</td>\n",
       "    </tr>\n",
       "    <tr>\n",
       "      <th>4</th>\n",
       "      <td>2021-02-02 08:54:02</td>\n",
       "      <td>CM</td>\n",
       "      <td>STA</td>\n",
       "      <td>Payout</td>\n",
       "      <td>MTNCM</td>\n",
       "      <td>XAF</td>\n",
       "      <td>4000.0</td>\n",
       "    </tr>\n",
       "  </tbody>\n",
       "</table>\n",
       "</div>"
      ],
      "text/plain": [
       "     date_transaction pays_de_transaction marchand produit operateur devise  \\\n",
       "0 2021-09-10 13:43:30                  SN      BET  Payout      OMSN    XOF   \n",
       "1 2021-10-01 12:36:36                  CM      STA  Payout     MTNCM    XAF   \n",
       "2 2021-04-18 18:03:01                  SN      BET  Payout      OMSN    XOF   \n",
       "3 2020-01-19 16:55:00                  ML      Pre  Payout      OMML    XOF   \n",
       "4 2021-02-02 08:54:02                  CM      STA  Payout     MTNCM    XAF   \n",
       "\n",
       "   montant  \n",
       "0   6000.0  \n",
       "1   1500.0  \n",
       "2   5000.0  \n",
       "3    300.0  \n",
       "4   4000.0  "
      ]
     },
     "execution_count": 30,
     "metadata": {},
     "output_type": "execute_result"
    }
   ],
   "source": [
    "PayOut = pd.read_excel('PayOut.xlsx')\n",
    "PayOut.head()"
   ]
  },
  {
   "cell_type": "code",
   "execution_count": 31,
   "id": "02e11960",
   "metadata": {},
   "outputs": [
    {
     "data": {
      "text/html": [
       "<div>\n",
       "<style scoped>\n",
       "    .dataframe tbody tr th:only-of-type {\n",
       "        vertical-align: middle;\n",
       "    }\n",
       "\n",
       "    .dataframe tbody tr th {\n",
       "        vertical-align: top;\n",
       "    }\n",
       "\n",
       "    .dataframe thead th {\n",
       "        text-align: right;\n",
       "    }\n",
       "</style>\n",
       "<table border=\"1\" class=\"dataframe\">\n",
       "  <thead>\n",
       "    <tr style=\"text-align: right;\">\n",
       "      <th></th>\n",
       "      <th>date_transaction</th>\n",
       "      <th>pays_de_transaction</th>\n",
       "      <th>marchand</th>\n",
       "      <th>produit</th>\n",
       "      <th>operateur</th>\n",
       "      <th>devise</th>\n",
       "      <th>montant</th>\n",
       "    </tr>\n",
       "  </thead>\n",
       "  <tbody>\n",
       "    <tr>\n",
       "      <th>0</th>\n",
       "      <td>2021-12-27 09:24:00</td>\n",
       "      <td>CI</td>\n",
       "      <td>YUP</td>\n",
       "      <td>Airtime</td>\n",
       "      <td>OM</td>\n",
       "      <td>XOF</td>\n",
       "      <td>1000</td>\n",
       "    </tr>\n",
       "    <tr>\n",
       "      <th>1</th>\n",
       "      <td>2020-01-22 10:51:00</td>\n",
       "      <td>CI</td>\n",
       "      <td>BET</td>\n",
       "      <td>Airtime</td>\n",
       "      <td>OM</td>\n",
       "      <td>XOF</td>\n",
       "      <td>5000</td>\n",
       "    </tr>\n",
       "    <tr>\n",
       "      <th>2</th>\n",
       "      <td>2021-12-14 10:18:00</td>\n",
       "      <td>CI</td>\n",
       "      <td>YUP</td>\n",
       "      <td>Airtime</td>\n",
       "      <td>OM</td>\n",
       "      <td>XOF</td>\n",
       "      <td>300</td>\n",
       "    </tr>\n",
       "    <tr>\n",
       "      <th>3</th>\n",
       "      <td>2021-12-21 10:31:00</td>\n",
       "      <td>CI</td>\n",
       "      <td>YUP</td>\n",
       "      <td>Airtime</td>\n",
       "      <td>OM</td>\n",
       "      <td>XOF</td>\n",
       "      <td>3000</td>\n",
       "    </tr>\n",
       "    <tr>\n",
       "      <th>4</th>\n",
       "      <td>2021-12-08 16:50:00</td>\n",
       "      <td>CI</td>\n",
       "      <td>YUP</td>\n",
       "      <td>Airtime</td>\n",
       "      <td>OM</td>\n",
       "      <td>XOF</td>\n",
       "      <td>600</td>\n",
       "    </tr>\n",
       "  </tbody>\n",
       "</table>\n",
       "</div>"
      ],
      "text/plain": [
       "     date_transaction pays_de_transaction marchand  produit operateur devise  \\\n",
       "0 2021-12-27 09:24:00                  CI      YUP  Airtime        OM    XOF   \n",
       "1 2020-01-22 10:51:00                  CI      BET  Airtime        OM    XOF   \n",
       "2 2021-12-14 10:18:00                  CI      YUP  Airtime        OM    XOF   \n",
       "3 2021-12-21 10:31:00                  CI      YUP  Airtime        OM    XOF   \n",
       "4 2021-12-08 16:50:00                  CI      YUP  Airtime        OM    XOF   \n",
       "\n",
       "   montant  \n",
       "0     1000  \n",
       "1     5000  \n",
       "2      300  \n",
       "3     3000  \n",
       "4      600  "
      ]
     },
     "execution_count": 31,
     "metadata": {},
     "output_type": "execute_result"
    }
   ],
   "source": [
    "Airtime = pd.read_excel('Airtime.xlsx')\n",
    "Airtime.head()"
   ]
  },
  {
   "cell_type": "markdown",
   "id": "a6ca3c8a",
   "metadata": {},
   "source": [
    "# Phase exploratoire des différents fichiers"
   ]
  },
  {
   "cell_type": "code",
   "execution_count": 32,
   "id": "1c3a7cd3",
   "metadata": {},
   "outputs": [],
   "source": [
    "from pandas_profiling import ProfileReport"
   ]
  },
  {
   "cell_type": "markdown",
   "id": "afb17a0a",
   "metadata": {},
   "source": [
    "**Phase exploratoire du fichier PayIn**"
   ]
  },
  {
   "cell_type": "code",
   "execution_count": 33,
   "id": "73f8a384",
   "metadata": {},
   "outputs": [
    {
     "data": {
      "application/vnd.jupyter.widget-view+json": {
       "model_id": "12fbe2d9065d4ab687880dd9b674ede2",
       "version_major": 2,
       "version_minor": 0
      },
      "text/plain": [
       "Summarize dataset:   0%|          | 0/5 [00:00<?, ?it/s]"
      ]
     },
     "metadata": {},
     "output_type": "display_data"
    },
    {
     "data": {
      "application/vnd.jupyter.widget-view+json": {
       "model_id": "198d6fa5de5b4d35acf6be7f36359d8a",
       "version_major": 2,
       "version_minor": 0
      },
      "text/plain": [
       "Generate report structure:   0%|          | 0/1 [00:00<?, ?it/s]"
      ]
     },
     "metadata": {},
     "output_type": "display_data"
    },
    {
     "data": {
      "application/vnd.jupyter.widget-view+json": {
       "model_id": "dca4f3e00d7f4ef1a4e1f7d97929b076",
       "version_major": 2,
       "version_minor": 0
      },
      "text/plain": [
       "Render HTML:   0%|          | 0/1 [00:00<?, ?it/s]"
      ]
     },
     "metadata": {},
     "output_type": "display_data"
    },
    {
     "data": {
      "application/vnd.jupyter.widget-view+json": {
       "model_id": "0f75d59620714de6aec58afc3e269392",
       "version_major": 2,
       "version_minor": 0
      },
      "text/plain": [
       "Export report to file:   0%|          | 0/1 [00:00<?, ?it/s]"
      ]
     },
     "metadata": {},
     "output_type": "display_data"
    }
   ],
   "source": [
    "prof = ProfileReport(PayIn)\n",
    "prof.to_file(output_file='rapportPayin.html')"
   ]
  },
  {
   "cell_type": "markdown",
   "id": "e9f53226",
   "metadata": {},
   "source": [
    "**Phase exploratoire du fichier PayOut**"
   ]
  },
  {
   "cell_type": "code",
   "execution_count": 34,
   "id": "2b331076",
   "metadata": {},
   "outputs": [
    {
     "data": {
      "application/vnd.jupyter.widget-view+json": {
       "model_id": "a053678a1d354982b4cd6f96a3050b2b",
       "version_major": 2,
       "version_minor": 0
      },
      "text/plain": [
       "Summarize dataset:   0%|          | 0/5 [00:00<?, ?it/s]"
      ]
     },
     "metadata": {},
     "output_type": "display_data"
    },
    {
     "data": {
      "application/vnd.jupyter.widget-view+json": {
       "model_id": "3913313d053c4fb087834e4d1290f9d9",
       "version_major": 2,
       "version_minor": 0
      },
      "text/plain": [
       "Generate report structure:   0%|          | 0/1 [00:00<?, ?it/s]"
      ]
     },
     "metadata": {},
     "output_type": "display_data"
    },
    {
     "data": {
      "application/vnd.jupyter.widget-view+json": {
       "model_id": "5f4634a5c784411097298ec04adbb493",
       "version_major": 2,
       "version_minor": 0
      },
      "text/plain": [
       "Render HTML:   0%|          | 0/1 [00:00<?, ?it/s]"
      ]
     },
     "metadata": {},
     "output_type": "display_data"
    },
    {
     "data": {
      "application/vnd.jupyter.widget-view+json": {
       "model_id": "64c4f06bace04f4fad7d96c1bad18445",
       "version_major": 2,
       "version_minor": 0
      },
      "text/plain": [
       "Export report to file:   0%|          | 0/1 [00:00<?, ?it/s]"
      ]
     },
     "metadata": {},
     "output_type": "display_data"
    }
   ],
   "source": [
    "profPayOut = ProfileReport(PayOut)\n",
    "profPayOut.to_file(output_file='rapportPayOut.html')"
   ]
  },
  {
   "cell_type": "markdown",
   "id": "5c52fe5a",
   "metadata": {},
   "source": [
    "**Phase exploratoire du fichier Airtime**"
   ]
  },
  {
   "cell_type": "code",
   "execution_count": 35,
   "id": "748c48fb",
   "metadata": {
    "scrolled": true
   },
   "outputs": [
    {
     "data": {
      "application/vnd.jupyter.widget-view+json": {
       "model_id": "0c13842eadec49bab259c1c174e4355a",
       "version_major": 2,
       "version_minor": 0
      },
      "text/plain": [
       "Summarize dataset:   0%|          | 0/5 [00:00<?, ?it/s]"
      ]
     },
     "metadata": {},
     "output_type": "display_data"
    },
    {
     "data": {
      "application/vnd.jupyter.widget-view+json": {
       "model_id": "39afda0cfff444f7a8620f8e0c09d132",
       "version_major": 2,
       "version_minor": 0
      },
      "text/plain": [
       "Generate report structure:   0%|          | 0/1 [00:00<?, ?it/s]"
      ]
     },
     "metadata": {},
     "output_type": "display_data"
    },
    {
     "data": {
      "application/vnd.jupyter.widget-view+json": {
       "model_id": "e850ceb92d5340b6a223e4876916ea74",
       "version_major": 2,
       "version_minor": 0
      },
      "text/plain": [
       "Render HTML:   0%|          | 0/1 [00:00<?, ?it/s]"
      ]
     },
     "metadata": {},
     "output_type": "display_data"
    },
    {
     "data": {
      "application/vnd.jupyter.widget-view+json": {
       "model_id": "dafaf5e1da1d418d80280cdd4c3af244",
       "version_major": 2,
       "version_minor": 0
      },
      "text/plain": [
       "Export report to file:   0%|          | 0/1 [00:00<?, ?it/s]"
      ]
     },
     "metadata": {},
     "output_type": "display_data"
    }
   ],
   "source": [
    "profAirtime = ProfileReport(Airtime)\n",
    "profAirtime.to_file(output_file='rapportAirtime.html')"
   ]
  },
  {
   "cell_type": "markdown",
   "id": "3769ede3",
   "metadata": {},
   "source": [
    "# Fusion des trois fichiers "
   ]
  },
  {
   "cell_type": "code",
   "execution_count": 36,
   "id": "959e91dc",
   "metadata": {},
   "outputs": [],
   "source": [
    "FusionDesDonnees = PayIn.append(PayOut).append(Airtime)"
   ]
  },
  {
   "cell_type": "code",
   "execution_count": 37,
   "id": "69d1cd76",
   "metadata": {},
   "outputs": [
    {
     "data": {
      "text/html": [
       "<div>\n",
       "<style scoped>\n",
       "    .dataframe tbody tr th:only-of-type {\n",
       "        vertical-align: middle;\n",
       "    }\n",
       "\n",
       "    .dataframe tbody tr th {\n",
       "        vertical-align: top;\n",
       "    }\n",
       "\n",
       "    .dataframe thead th {\n",
       "        text-align: right;\n",
       "    }\n",
       "</style>\n",
       "<table border=\"1\" class=\"dataframe\">\n",
       "  <thead>\n",
       "    <tr style=\"text-align: right;\">\n",
       "      <th></th>\n",
       "      <th>date_transaction</th>\n",
       "      <th>pays_de_transaction</th>\n",
       "      <th>marchand</th>\n",
       "      <th>produit</th>\n",
       "      <th>operateur</th>\n",
       "      <th>devise</th>\n",
       "      <th>montant</th>\n",
       "      <th>commission_operateur</th>\n",
       "      <th>commission_cinetpay</th>\n",
       "    </tr>\n",
       "  </thead>\n",
       "  <tbody>\n",
       "    <tr>\n",
       "      <th>0</th>\n",
       "      <td>2021-07-08 17:45:47</td>\n",
       "      <td>CI</td>\n",
       "      <td>DDV</td>\n",
       "      <td>Payin</td>\n",
       "      <td>DDVAOMCI</td>\n",
       "      <td>XOF</td>\n",
       "      <td>2000.0</td>\n",
       "      <td>30.0</td>\n",
       "      <td>0.0</td>\n",
       "    </tr>\n",
       "    <tr>\n",
       "      <th>1</th>\n",
       "      <td>2021-07-02 22:02:08</td>\n",
       "      <td>CI</td>\n",
       "      <td>DDV</td>\n",
       "      <td>Payin</td>\n",
       "      <td>DDVAVISAM</td>\n",
       "      <td>XOF</td>\n",
       "      <td>2000.0</td>\n",
       "      <td>30.0</td>\n",
       "      <td>10.0</td>\n",
       "    </tr>\n",
       "    <tr>\n",
       "      <th>2</th>\n",
       "      <td>2021-12-06 23:11:20</td>\n",
       "      <td>SN</td>\n",
       "      <td>BET</td>\n",
       "      <td>Payin</td>\n",
       "      <td>OMSN</td>\n",
       "      <td>XOF</td>\n",
       "      <td>1000.0</td>\n",
       "      <td>10.0</td>\n",
       "      <td>30.0</td>\n",
       "    </tr>\n",
       "    <tr>\n",
       "      <th>3</th>\n",
       "      <td>2022-01-06 10:39:43</td>\n",
       "      <td>CI</td>\n",
       "      <td>DDV</td>\n",
       "      <td>Payin</td>\n",
       "      <td>DDVAVISAM</td>\n",
       "      <td>XOF</td>\n",
       "      <td>2000.0</td>\n",
       "      <td>30.0</td>\n",
       "      <td>10.0</td>\n",
       "    </tr>\n",
       "    <tr>\n",
       "      <th>4</th>\n",
       "      <td>2021-07-03 19:39:20</td>\n",
       "      <td>SN</td>\n",
       "      <td>BET</td>\n",
       "      <td>Payin</td>\n",
       "      <td>OMSN</td>\n",
       "      <td>XOF</td>\n",
       "      <td>500.0</td>\n",
       "      <td>5.0</td>\n",
       "      <td>15.0</td>\n",
       "    </tr>\n",
       "    <tr>\n",
       "      <th>...</th>\n",
       "      <td>...</td>\n",
       "      <td>...</td>\n",
       "      <td>...</td>\n",
       "      <td>...</td>\n",
       "      <td>...</td>\n",
       "      <td>...</td>\n",
       "      <td>...</td>\n",
       "      <td>...</td>\n",
       "      <td>...</td>\n",
       "    </tr>\n",
       "    <tr>\n",
       "      <th>9995</th>\n",
       "      <td>2021-11-28 08:19:00</td>\n",
       "      <td>CI</td>\n",
       "      <td>YUP</td>\n",
       "      <td>Airtime</td>\n",
       "      <td>OM</td>\n",
       "      <td>XOF</td>\n",
       "      <td>200.0</td>\n",
       "      <td>NaN</td>\n",
       "      <td>NaN</td>\n",
       "    </tr>\n",
       "    <tr>\n",
       "      <th>9996</th>\n",
       "      <td>2021-11-26 17:06:00</td>\n",
       "      <td>CI</td>\n",
       "      <td>YUP</td>\n",
       "      <td>Airtime</td>\n",
       "      <td>OM</td>\n",
       "      <td>XOF</td>\n",
       "      <td>500.0</td>\n",
       "      <td>NaN</td>\n",
       "      <td>NaN</td>\n",
       "    </tr>\n",
       "    <tr>\n",
       "      <th>9997</th>\n",
       "      <td>2021-11-25 11:22:00</td>\n",
       "      <td>CI</td>\n",
       "      <td>YUP</td>\n",
       "      <td>Airtime</td>\n",
       "      <td>OM</td>\n",
       "      <td>XOF</td>\n",
       "      <td>150.0</td>\n",
       "      <td>NaN</td>\n",
       "      <td>NaN</td>\n",
       "    </tr>\n",
       "    <tr>\n",
       "      <th>9998</th>\n",
       "      <td>2021-10-19 09:23:00</td>\n",
       "      <td>CI</td>\n",
       "      <td>AFR</td>\n",
       "      <td>Airtime</td>\n",
       "      <td>OM</td>\n",
       "      <td>XOF</td>\n",
       "      <td>1000.0</td>\n",
       "      <td>NaN</td>\n",
       "      <td>NaN</td>\n",
       "    </tr>\n",
       "    <tr>\n",
       "      <th>9999</th>\n",
       "      <td>2021-12-30 11:42:00</td>\n",
       "      <td>CI</td>\n",
       "      <td>Wiz</td>\n",
       "      <td>Airtime</td>\n",
       "      <td>MOMO</td>\n",
       "      <td>XOF</td>\n",
       "      <td>2545.0</td>\n",
       "      <td>NaN</td>\n",
       "      <td>NaN</td>\n",
       "    </tr>\n",
       "  </tbody>\n",
       "</table>\n",
       "<p>30000 rows × 9 columns</p>\n",
       "</div>"
      ],
      "text/plain": [
       "        date_transaction pays_de_transaction marchand  produit  operateur  \\\n",
       "0    2021-07-08 17:45:47                  CI      DDV    Payin   DDVAOMCI   \n",
       "1    2021-07-02 22:02:08                  CI      DDV    Payin  DDVAVISAM   \n",
       "2    2021-12-06 23:11:20                  SN      BET    Payin       OMSN   \n",
       "3    2022-01-06 10:39:43                  CI      DDV    Payin  DDVAVISAM   \n",
       "4    2021-07-03 19:39:20                  SN      BET    Payin       OMSN   \n",
       "...                  ...                 ...      ...      ...        ...   \n",
       "9995 2021-11-28 08:19:00                  CI      YUP  Airtime         OM   \n",
       "9996 2021-11-26 17:06:00                  CI      YUP  Airtime         OM   \n",
       "9997 2021-11-25 11:22:00                  CI      YUP  Airtime         OM   \n",
       "9998 2021-10-19 09:23:00                  CI      AFR  Airtime         OM   \n",
       "9999 2021-12-30 11:42:00                  CI      Wiz  Airtime       MOMO   \n",
       "\n",
       "     devise  montant  commission_operateur  commission_cinetpay  \n",
       "0       XOF   2000.0                  30.0                  0.0  \n",
       "1       XOF   2000.0                  30.0                 10.0  \n",
       "2       XOF   1000.0                  10.0                 30.0  \n",
       "3       XOF   2000.0                  30.0                 10.0  \n",
       "4       XOF    500.0                   5.0                 15.0  \n",
       "...     ...      ...                   ...                  ...  \n",
       "9995    XOF    200.0                   NaN                  NaN  \n",
       "9996    XOF    500.0                   NaN                  NaN  \n",
       "9997    XOF    150.0                   NaN                  NaN  \n",
       "9998    XOF   1000.0                   NaN                  NaN  \n",
       "9999    XOF   2545.0                   NaN                  NaN  \n",
       "\n",
       "[30000 rows x 9 columns]"
      ]
     },
     "execution_count": 37,
     "metadata": {},
     "output_type": "execute_result"
    }
   ],
   "source": [
    "# Visualisation de notre data\n",
    "\n",
    "FusionDesDonnees"
   ]
  },
  {
   "cell_type": "markdown",
   "id": "5bbcff83",
   "metadata": {},
   "source": [
    "## IMPUTATION DES VALEURS MANQUANTES\n",
    "\n",
    "**Vue qu'au PayOut et au Airtime il n'y pas de commission(commission_opérateur et commission_Cinetpay) nous allons donc imputer par 0**"
   ]
  },
  {
   "cell_type": "markdown",
   "id": "ae907e05",
   "metadata": {},
   "source": [
    "#### Créons une fonction qui impute les valeurs manquantes"
   ]
  },
  {
   "cell_type": "code",
   "execution_count": 38,
   "id": "c2d33625",
   "metadata": {},
   "outputs": [
    {
     "data": {
      "text/plain": [
       "('montant', 'commission_operateur', 'commission_cinetpay')"
      ]
     },
     "execution_count": 38,
     "metadata": {},
     "output_type": "execute_result"
    }
   ],
   "source": [
    "colnum = ('montant', 'commission_operateur','commission_cinetpay')\n",
    "colnum"
   ]
  },
  {
   "cell_type": "code",
   "execution_count": 39,
   "id": "35dd8fda",
   "metadata": {},
   "outputs": [],
   "source": [
    "def imputmissingvalue(data, cols, val):\n",
    "    valuesinput = dict.fromkeys(cols,val)\n",
    "    data.fillna(valuesinput, inplace=True)\n",
    "    return data"
   ]
  },
  {
   "cell_type": "code",
   "execution_count": 40,
   "id": "dc93fef7",
   "metadata": {},
   "outputs": [
    {
     "data": {
      "text/html": [
       "<div>\n",
       "<style scoped>\n",
       "    .dataframe tbody tr th:only-of-type {\n",
       "        vertical-align: middle;\n",
       "    }\n",
       "\n",
       "    .dataframe tbody tr th {\n",
       "        vertical-align: top;\n",
       "    }\n",
       "\n",
       "    .dataframe thead th {\n",
       "        text-align: right;\n",
       "    }\n",
       "</style>\n",
       "<table border=\"1\" class=\"dataframe\">\n",
       "  <thead>\n",
       "    <tr style=\"text-align: right;\">\n",
       "      <th></th>\n",
       "      <th>date_transaction</th>\n",
       "      <th>pays_de_transaction</th>\n",
       "      <th>marchand</th>\n",
       "      <th>produit</th>\n",
       "      <th>operateur</th>\n",
       "      <th>devise</th>\n",
       "      <th>montant</th>\n",
       "      <th>commission_operateur</th>\n",
       "      <th>commission_cinetpay</th>\n",
       "    </tr>\n",
       "  </thead>\n",
       "  <tbody>\n",
       "    <tr>\n",
       "      <th>9995</th>\n",
       "      <td>2021-11-28 08:19:00</td>\n",
       "      <td>CI</td>\n",
       "      <td>YUP</td>\n",
       "      <td>Airtime</td>\n",
       "      <td>OM</td>\n",
       "      <td>XOF</td>\n",
       "      <td>200.0</td>\n",
       "      <td>0.0</td>\n",
       "      <td>0.0</td>\n",
       "    </tr>\n",
       "    <tr>\n",
       "      <th>9996</th>\n",
       "      <td>2021-11-26 17:06:00</td>\n",
       "      <td>CI</td>\n",
       "      <td>YUP</td>\n",
       "      <td>Airtime</td>\n",
       "      <td>OM</td>\n",
       "      <td>XOF</td>\n",
       "      <td>500.0</td>\n",
       "      <td>0.0</td>\n",
       "      <td>0.0</td>\n",
       "    </tr>\n",
       "    <tr>\n",
       "      <th>9997</th>\n",
       "      <td>2021-11-25 11:22:00</td>\n",
       "      <td>CI</td>\n",
       "      <td>YUP</td>\n",
       "      <td>Airtime</td>\n",
       "      <td>OM</td>\n",
       "      <td>XOF</td>\n",
       "      <td>150.0</td>\n",
       "      <td>0.0</td>\n",
       "      <td>0.0</td>\n",
       "    </tr>\n",
       "    <tr>\n",
       "      <th>9998</th>\n",
       "      <td>2021-10-19 09:23:00</td>\n",
       "      <td>CI</td>\n",
       "      <td>AFR</td>\n",
       "      <td>Airtime</td>\n",
       "      <td>OM</td>\n",
       "      <td>XOF</td>\n",
       "      <td>1000.0</td>\n",
       "      <td>0.0</td>\n",
       "      <td>0.0</td>\n",
       "    </tr>\n",
       "    <tr>\n",
       "      <th>9999</th>\n",
       "      <td>2021-12-30 11:42:00</td>\n",
       "      <td>CI</td>\n",
       "      <td>Wiz</td>\n",
       "      <td>Airtime</td>\n",
       "      <td>MOMO</td>\n",
       "      <td>XOF</td>\n",
       "      <td>2545.0</td>\n",
       "      <td>0.0</td>\n",
       "      <td>0.0</td>\n",
       "    </tr>\n",
       "  </tbody>\n",
       "</table>\n",
       "</div>"
      ],
      "text/plain": [
       "        date_transaction pays_de_transaction marchand  produit operateur  \\\n",
       "9995 2021-11-28 08:19:00                  CI      YUP  Airtime        OM   \n",
       "9996 2021-11-26 17:06:00                  CI      YUP  Airtime        OM   \n",
       "9997 2021-11-25 11:22:00                  CI      YUP  Airtime        OM   \n",
       "9998 2021-10-19 09:23:00                  CI      AFR  Airtime        OM   \n",
       "9999 2021-12-30 11:42:00                  CI      Wiz  Airtime      MOMO   \n",
       "\n",
       "     devise  montant  commission_operateur  commission_cinetpay  \n",
       "9995    XOF    200.0                   0.0                  0.0  \n",
       "9996    XOF    500.0                   0.0                  0.0  \n",
       "9997    XOF    150.0                   0.0                  0.0  \n",
       "9998    XOF   1000.0                   0.0                  0.0  \n",
       "9999    XOF   2545.0                   0.0                  0.0  "
      ]
     },
     "execution_count": 40,
     "metadata": {},
     "output_type": "execute_result"
    }
   ],
   "source": [
    "FusionDesDonnees = imputmissingvalue(FusionDesDonnees,colnum,0)\n",
    "FusionDesDonnees.tail()"
   ]
  },
  {
   "cell_type": "markdown",
   "id": "c994e5a3",
   "metadata": {},
   "source": [
    "####  Créons une fonction pour formater en date"
   ]
  },
  {
   "cell_type": "code",
   "execution_count": 41,
   "id": "cb1e4b6f",
   "metadata": {},
   "outputs": [
    {
     "data": {
      "text/html": [
       "<div>\n",
       "<style scoped>\n",
       "    .dataframe tbody tr th:only-of-type {\n",
       "        vertical-align: middle;\n",
       "    }\n",
       "\n",
       "    .dataframe tbody tr th {\n",
       "        vertical-align: top;\n",
       "    }\n",
       "\n",
       "    .dataframe thead th {\n",
       "        text-align: right;\n",
       "    }\n",
       "</style>\n",
       "<table border=\"1\" class=\"dataframe\">\n",
       "  <thead>\n",
       "    <tr style=\"text-align: right;\">\n",
       "      <th></th>\n",
       "      <th>date_transaction</th>\n",
       "      <th>pays_de_transaction</th>\n",
       "      <th>marchand</th>\n",
       "      <th>produit</th>\n",
       "      <th>operateur</th>\n",
       "      <th>devise</th>\n",
       "      <th>montant</th>\n",
       "      <th>commission_operateur</th>\n",
       "      <th>commission_cinetpay</th>\n",
       "    </tr>\n",
       "  </thead>\n",
       "  <tbody>\n",
       "    <tr>\n",
       "      <th>0</th>\n",
       "      <td>2021-07-08 17:45:47</td>\n",
       "      <td>CI</td>\n",
       "      <td>DDV</td>\n",
       "      <td>Payin</td>\n",
       "      <td>DDVAOMCI</td>\n",
       "      <td>XOF</td>\n",
       "      <td>2000.0</td>\n",
       "      <td>30.0</td>\n",
       "      <td>0.0</td>\n",
       "    </tr>\n",
       "    <tr>\n",
       "      <th>1</th>\n",
       "      <td>2021-07-02 22:02:08</td>\n",
       "      <td>CI</td>\n",
       "      <td>DDV</td>\n",
       "      <td>Payin</td>\n",
       "      <td>DDVAVISAM</td>\n",
       "      <td>XOF</td>\n",
       "      <td>2000.0</td>\n",
       "      <td>30.0</td>\n",
       "      <td>10.0</td>\n",
       "    </tr>\n",
       "    <tr>\n",
       "      <th>2</th>\n",
       "      <td>2021-12-06 23:11:20</td>\n",
       "      <td>SN</td>\n",
       "      <td>BET</td>\n",
       "      <td>Payin</td>\n",
       "      <td>OMSN</td>\n",
       "      <td>XOF</td>\n",
       "      <td>1000.0</td>\n",
       "      <td>10.0</td>\n",
       "      <td>30.0</td>\n",
       "    </tr>\n",
       "    <tr>\n",
       "      <th>3</th>\n",
       "      <td>2022-01-06 10:39:43</td>\n",
       "      <td>CI</td>\n",
       "      <td>DDV</td>\n",
       "      <td>Payin</td>\n",
       "      <td>DDVAVISAM</td>\n",
       "      <td>XOF</td>\n",
       "      <td>2000.0</td>\n",
       "      <td>30.0</td>\n",
       "      <td>10.0</td>\n",
       "    </tr>\n",
       "    <tr>\n",
       "      <th>4</th>\n",
       "      <td>2021-07-03 19:39:20</td>\n",
       "      <td>SN</td>\n",
       "      <td>BET</td>\n",
       "      <td>Payin</td>\n",
       "      <td>OMSN</td>\n",
       "      <td>XOF</td>\n",
       "      <td>500.0</td>\n",
       "      <td>5.0</td>\n",
       "      <td>15.0</td>\n",
       "    </tr>\n",
       "    <tr>\n",
       "      <th>...</th>\n",
       "      <td>...</td>\n",
       "      <td>...</td>\n",
       "      <td>...</td>\n",
       "      <td>...</td>\n",
       "      <td>...</td>\n",
       "      <td>...</td>\n",
       "      <td>...</td>\n",
       "      <td>...</td>\n",
       "      <td>...</td>\n",
       "    </tr>\n",
       "    <tr>\n",
       "      <th>9995</th>\n",
       "      <td>2021-11-28 08:19:00</td>\n",
       "      <td>CI</td>\n",
       "      <td>YUP</td>\n",
       "      <td>Airtime</td>\n",
       "      <td>OM</td>\n",
       "      <td>XOF</td>\n",
       "      <td>200.0</td>\n",
       "      <td>0.0</td>\n",
       "      <td>0.0</td>\n",
       "    </tr>\n",
       "    <tr>\n",
       "      <th>9996</th>\n",
       "      <td>2021-11-26 17:06:00</td>\n",
       "      <td>CI</td>\n",
       "      <td>YUP</td>\n",
       "      <td>Airtime</td>\n",
       "      <td>OM</td>\n",
       "      <td>XOF</td>\n",
       "      <td>500.0</td>\n",
       "      <td>0.0</td>\n",
       "      <td>0.0</td>\n",
       "    </tr>\n",
       "    <tr>\n",
       "      <th>9997</th>\n",
       "      <td>2021-11-25 11:22:00</td>\n",
       "      <td>CI</td>\n",
       "      <td>YUP</td>\n",
       "      <td>Airtime</td>\n",
       "      <td>OM</td>\n",
       "      <td>XOF</td>\n",
       "      <td>150.0</td>\n",
       "      <td>0.0</td>\n",
       "      <td>0.0</td>\n",
       "    </tr>\n",
       "    <tr>\n",
       "      <th>9998</th>\n",
       "      <td>2021-10-19 09:23:00</td>\n",
       "      <td>CI</td>\n",
       "      <td>AFR</td>\n",
       "      <td>Airtime</td>\n",
       "      <td>OM</td>\n",
       "      <td>XOF</td>\n",
       "      <td>1000.0</td>\n",
       "      <td>0.0</td>\n",
       "      <td>0.0</td>\n",
       "    </tr>\n",
       "    <tr>\n",
       "      <th>9999</th>\n",
       "      <td>2021-12-30 11:42:00</td>\n",
       "      <td>CI</td>\n",
       "      <td>Wiz</td>\n",
       "      <td>Airtime</td>\n",
       "      <td>MOMO</td>\n",
       "      <td>XOF</td>\n",
       "      <td>2545.0</td>\n",
       "      <td>0.0</td>\n",
       "      <td>0.0</td>\n",
       "    </tr>\n",
       "  </tbody>\n",
       "</table>\n",
       "<p>30000 rows × 9 columns</p>\n",
       "</div>"
      ],
      "text/plain": [
       "        date_transaction pays_de_transaction marchand  produit  operateur  \\\n",
       "0    2021-07-08 17:45:47                  CI      DDV    Payin   DDVAOMCI   \n",
       "1    2021-07-02 22:02:08                  CI      DDV    Payin  DDVAVISAM   \n",
       "2    2021-12-06 23:11:20                  SN      BET    Payin       OMSN   \n",
       "3    2022-01-06 10:39:43                  CI      DDV    Payin  DDVAVISAM   \n",
       "4    2021-07-03 19:39:20                  SN      BET    Payin       OMSN   \n",
       "...                  ...                 ...      ...      ...        ...   \n",
       "9995 2021-11-28 08:19:00                  CI      YUP  Airtime         OM   \n",
       "9996 2021-11-26 17:06:00                  CI      YUP  Airtime         OM   \n",
       "9997 2021-11-25 11:22:00                  CI      YUP  Airtime         OM   \n",
       "9998 2021-10-19 09:23:00                  CI      AFR  Airtime         OM   \n",
       "9999 2021-12-30 11:42:00                  CI      Wiz  Airtime       MOMO   \n",
       "\n",
       "     devise  montant  commission_operateur  commission_cinetpay  \n",
       "0       XOF   2000.0                  30.0                  0.0  \n",
       "1       XOF   2000.0                  30.0                 10.0  \n",
       "2       XOF   1000.0                  10.0                 30.0  \n",
       "3       XOF   2000.0                  30.0                 10.0  \n",
       "4       XOF    500.0                   5.0                 15.0  \n",
       "...     ...      ...                   ...                  ...  \n",
       "9995    XOF    200.0                   0.0                  0.0  \n",
       "9996    XOF    500.0                   0.0                  0.0  \n",
       "9997    XOF    150.0                   0.0                  0.0  \n",
       "9998    XOF   1000.0                   0.0                  0.0  \n",
       "9999    XOF   2545.0                   0.0                  0.0  \n",
       "\n",
       "[30000 rows x 9 columns]"
      ]
     },
     "execution_count": 41,
     "metadata": {},
     "output_type": "execute_result"
    }
   ],
   "source": [
    "def dateformat(data, col):\n",
    "    data[col] = pd.to_datetime(data[col], format='%Y-%m-%d %H:%M:%S')\n",
    "    return data\n",
    "\n",
    "#Appel de notre fonction\n",
    "FusionDesDonnees = dateformat(FusionDesDonnees,'date_transaction')\n",
    "FusionDesDonnees"
   ]
  },
  {
   "cell_type": "markdown",
   "id": "16bec916",
   "metadata": {},
   "source": [
    "### fonction qui tranforme le type d'une colonne en float\n",
    "\n",
    "**Les données sont bien formatés dans notre cas mais nous formatons pour des cas critiques à venir**"
   ]
  },
  {
   "cell_type": "code",
   "execution_count": 42,
   "id": "04497324",
   "metadata": {},
   "outputs": [
    {
     "data": {
      "text/plain": [
       "date_transaction        datetime64[ns]\n",
       "pays_de_transaction             object\n",
       "marchand                        object\n",
       "produit                         object\n",
       "operateur                       object\n",
       "devise                          object\n",
       "montant                        float64\n",
       "commission_operateur           float64\n",
       "commission_cinetpay            float64\n",
       "dtype: object"
      ]
     },
     "execution_count": 42,
     "metadata": {},
     "output_type": "execute_result"
    }
   ],
   "source": [
    "def transtype(data, cols):\n",
    "    for col in cols:\n",
    "        data[col] = data[col].astype(np.float64)\n",
    "    return data\n",
    "\n",
    "FusionDesDonnees = transtype(FusionDesDonnees, colnum)\n",
    "FusionDesDonnees.dtypes         "
   ]
  },
  {
   "cell_type": "markdown",
   "id": "79ff3cea",
   "metadata": {},
   "source": [
    "# COMBINAISON DES FONCTIONS"
   ]
  },
  {
   "cell_type": "code",
   "execution_count": 43,
   "id": "c3989067",
   "metadata": {},
   "outputs": [],
   "source": [
    "def imputmissingvalue(data, cols, val):\n",
    "    valuesinput = dict.fromkeys(cols,val)\n",
    "    data.fillna(valuesinput, inplace=True)\n",
    "    return data\n",
    "\n",
    "\n",
    "def dateformat(data, col):\n",
    "    data[col] = pd.to_datetime(data[col], format='%Y-%m-%d %H:%M:%S')\n",
    "    return data\n",
    "\n",
    "def transtype(data, cols):\n",
    "    for col in cols:\n",
    "        data[col] = data[col].astype(np.float64)\n",
    "    return data\n",
    "\n",
    "def traitement(data,cols,val):\n",
    "    data = transtype(dateformat(imputmissingvalue(data,cols,val),'date_transaction'),cols)\n",
    "    #data.drop_duplicates(keep = 'first', inplace=True)\n",
    "    return data\n",
    "\n",
    "    "
   ]
  },
  {
   "cell_type": "code",
   "execution_count": 44,
   "id": "8f901a76",
   "metadata": {},
   "outputs": [
    {
     "data": {
      "text/html": [
       "<div>\n",
       "<style scoped>\n",
       "    .dataframe tbody tr th:only-of-type {\n",
       "        vertical-align: middle;\n",
       "    }\n",
       "\n",
       "    .dataframe tbody tr th {\n",
       "        vertical-align: top;\n",
       "    }\n",
       "\n",
       "    .dataframe thead th {\n",
       "        text-align: right;\n",
       "    }\n",
       "</style>\n",
       "<table border=\"1\" class=\"dataframe\">\n",
       "  <thead>\n",
       "    <tr style=\"text-align: right;\">\n",
       "      <th></th>\n",
       "      <th>date_transaction</th>\n",
       "      <th>pays_de_transaction</th>\n",
       "      <th>marchand</th>\n",
       "      <th>produit</th>\n",
       "      <th>operateur</th>\n",
       "      <th>devise</th>\n",
       "      <th>montant</th>\n",
       "      <th>commission_operateur</th>\n",
       "      <th>commission_cinetpay</th>\n",
       "    </tr>\n",
       "  </thead>\n",
       "  <tbody>\n",
       "    <tr>\n",
       "      <th>0</th>\n",
       "      <td>2021-07-08 17:45:47</td>\n",
       "      <td>CI</td>\n",
       "      <td>DDV</td>\n",
       "      <td>Payin</td>\n",
       "      <td>DDVAOMCI</td>\n",
       "      <td>XOF</td>\n",
       "      <td>2000.0</td>\n",
       "      <td>30.0</td>\n",
       "      <td>0.0</td>\n",
       "    </tr>\n",
       "    <tr>\n",
       "      <th>1</th>\n",
       "      <td>2021-07-02 22:02:08</td>\n",
       "      <td>CI</td>\n",
       "      <td>DDV</td>\n",
       "      <td>Payin</td>\n",
       "      <td>DDVAVISAM</td>\n",
       "      <td>XOF</td>\n",
       "      <td>2000.0</td>\n",
       "      <td>30.0</td>\n",
       "      <td>10.0</td>\n",
       "    </tr>\n",
       "    <tr>\n",
       "      <th>2</th>\n",
       "      <td>2021-12-06 23:11:20</td>\n",
       "      <td>SN</td>\n",
       "      <td>BET</td>\n",
       "      <td>Payin</td>\n",
       "      <td>OMSN</td>\n",
       "      <td>XOF</td>\n",
       "      <td>1000.0</td>\n",
       "      <td>10.0</td>\n",
       "      <td>30.0</td>\n",
       "    </tr>\n",
       "    <tr>\n",
       "      <th>3</th>\n",
       "      <td>2022-01-06 10:39:43</td>\n",
       "      <td>CI</td>\n",
       "      <td>DDV</td>\n",
       "      <td>Payin</td>\n",
       "      <td>DDVAVISAM</td>\n",
       "      <td>XOF</td>\n",
       "      <td>2000.0</td>\n",
       "      <td>30.0</td>\n",
       "      <td>10.0</td>\n",
       "    </tr>\n",
       "    <tr>\n",
       "      <th>4</th>\n",
       "      <td>2021-07-03 19:39:20</td>\n",
       "      <td>SN</td>\n",
       "      <td>BET</td>\n",
       "      <td>Payin</td>\n",
       "      <td>OMSN</td>\n",
       "      <td>XOF</td>\n",
       "      <td>500.0</td>\n",
       "      <td>5.0</td>\n",
       "      <td>15.0</td>\n",
       "    </tr>\n",
       "    <tr>\n",
       "      <th>...</th>\n",
       "      <td>...</td>\n",
       "      <td>...</td>\n",
       "      <td>...</td>\n",
       "      <td>...</td>\n",
       "      <td>...</td>\n",
       "      <td>...</td>\n",
       "      <td>...</td>\n",
       "      <td>...</td>\n",
       "      <td>...</td>\n",
       "    </tr>\n",
       "    <tr>\n",
       "      <th>9995</th>\n",
       "      <td>2021-11-28 08:19:00</td>\n",
       "      <td>CI</td>\n",
       "      <td>YUP</td>\n",
       "      <td>Airtime</td>\n",
       "      <td>OM</td>\n",
       "      <td>XOF</td>\n",
       "      <td>200.0</td>\n",
       "      <td>0.0</td>\n",
       "      <td>0.0</td>\n",
       "    </tr>\n",
       "    <tr>\n",
       "      <th>9996</th>\n",
       "      <td>2021-11-26 17:06:00</td>\n",
       "      <td>CI</td>\n",
       "      <td>YUP</td>\n",
       "      <td>Airtime</td>\n",
       "      <td>OM</td>\n",
       "      <td>XOF</td>\n",
       "      <td>500.0</td>\n",
       "      <td>0.0</td>\n",
       "      <td>0.0</td>\n",
       "    </tr>\n",
       "    <tr>\n",
       "      <th>9997</th>\n",
       "      <td>2021-11-25 11:22:00</td>\n",
       "      <td>CI</td>\n",
       "      <td>YUP</td>\n",
       "      <td>Airtime</td>\n",
       "      <td>OM</td>\n",
       "      <td>XOF</td>\n",
       "      <td>150.0</td>\n",
       "      <td>0.0</td>\n",
       "      <td>0.0</td>\n",
       "    </tr>\n",
       "    <tr>\n",
       "      <th>9998</th>\n",
       "      <td>2021-10-19 09:23:00</td>\n",
       "      <td>CI</td>\n",
       "      <td>AFR</td>\n",
       "      <td>Airtime</td>\n",
       "      <td>OM</td>\n",
       "      <td>XOF</td>\n",
       "      <td>1000.0</td>\n",
       "      <td>0.0</td>\n",
       "      <td>0.0</td>\n",
       "    </tr>\n",
       "    <tr>\n",
       "      <th>9999</th>\n",
       "      <td>2021-12-30 11:42:00</td>\n",
       "      <td>CI</td>\n",
       "      <td>Wiz</td>\n",
       "      <td>Airtime</td>\n",
       "      <td>MOMO</td>\n",
       "      <td>XOF</td>\n",
       "      <td>2545.0</td>\n",
       "      <td>0.0</td>\n",
       "      <td>0.0</td>\n",
       "    </tr>\n",
       "  </tbody>\n",
       "</table>\n",
       "<p>30000 rows × 9 columns</p>\n",
       "</div>"
      ],
      "text/plain": [
       "        date_transaction pays_de_transaction marchand  produit  operateur  \\\n",
       "0    2021-07-08 17:45:47                  CI      DDV    Payin   DDVAOMCI   \n",
       "1    2021-07-02 22:02:08                  CI      DDV    Payin  DDVAVISAM   \n",
       "2    2021-12-06 23:11:20                  SN      BET    Payin       OMSN   \n",
       "3    2022-01-06 10:39:43                  CI      DDV    Payin  DDVAVISAM   \n",
       "4    2021-07-03 19:39:20                  SN      BET    Payin       OMSN   \n",
       "...                  ...                 ...      ...      ...        ...   \n",
       "9995 2021-11-28 08:19:00                  CI      YUP  Airtime         OM   \n",
       "9996 2021-11-26 17:06:00                  CI      YUP  Airtime         OM   \n",
       "9997 2021-11-25 11:22:00                  CI      YUP  Airtime         OM   \n",
       "9998 2021-10-19 09:23:00                  CI      AFR  Airtime         OM   \n",
       "9999 2021-12-30 11:42:00                  CI      Wiz  Airtime       MOMO   \n",
       "\n",
       "     devise  montant  commission_operateur  commission_cinetpay  \n",
       "0       XOF   2000.0                  30.0                  0.0  \n",
       "1       XOF   2000.0                  30.0                 10.0  \n",
       "2       XOF   1000.0                  10.0                 30.0  \n",
       "3       XOF   2000.0                  30.0                 10.0  \n",
       "4       XOF    500.0                   5.0                 15.0  \n",
       "...     ...      ...                   ...                  ...  \n",
       "9995    XOF    200.0                   0.0                  0.0  \n",
       "9996    XOF    500.0                   0.0                  0.0  \n",
       "9997    XOF    150.0                   0.0                  0.0  \n",
       "9998    XOF   1000.0                   0.0                  0.0  \n",
       "9999    XOF   2545.0                   0.0                  0.0  \n",
       "\n",
       "[30000 rows x 9 columns]"
      ]
     },
     "execution_count": 44,
     "metadata": {},
     "output_type": "execute_result"
    }
   ],
   "source": [
    "FusionDesDonnees = traitement(PayIn.append(PayOut).append(Airtime),colnum,0)\n",
    "FusionDesDonnees"
   ]
  },
  {
   "cell_type": "code",
   "execution_count": 45,
   "id": "a9ded28b",
   "metadata": {},
   "outputs": [
    {
     "data": {
      "text/plain": [
       "date_transaction        datetime64[ns]\n",
       "pays_de_transaction             object\n",
       "marchand                        object\n",
       "produit                         object\n",
       "operateur                       object\n",
       "devise                          object\n",
       "montant                        float64\n",
       "commission_operateur           float64\n",
       "commission_cinetpay            float64\n",
       "dtype: object"
      ]
     },
     "execution_count": 45,
     "metadata": {},
     "output_type": "execute_result"
    }
   ],
   "source": [
    "FusionDesDonnees.dtypes"
   ]
  },
  {
   "cell_type": "code",
   "execution_count": 46,
   "id": "ea8c4b65",
   "metadata": {},
   "outputs": [
    {
     "data": {
      "application/vnd.jupyter.widget-view+json": {
       "model_id": "4c90b5055a01428dbacb441ebb04a0f4",
       "version_major": 2,
       "version_minor": 0
      },
      "text/plain": [
       "Summarize dataset:   0%|          | 0/5 [00:00<?, ?it/s]"
      ]
     },
     "metadata": {},
     "output_type": "display_data"
    },
    {
     "name": "stderr",
     "output_type": "stream",
     "text": [
      "C:\\Users\\RCARINE\\anaconda3\\lib\\site-packages\\pandas_profiling\\model\\correlations.py:67: UserWarning:\n",
      "\n",
      "There was an attempt to calculate the auto correlation, but this failed.\n",
      "To hide this warning, disable the calculation\n",
      "(using `df.profile_report(correlations={\"auto\": {\"calculate\": False}})`\n",
      "If this is problematic for your use case, please report this as an issue:\n",
      "https://github.com/ydataai/pandas-profiling/issues\n",
      "(include the error message: 'cannot reindex from a duplicate axis')\n",
      "\n"
     ]
    },
    {
     "data": {
      "application/vnd.jupyter.widget-view+json": {
       "model_id": "df1e5f03177c4389968393e96b620fb3",
       "version_major": 2,
       "version_minor": 0
      },
      "text/plain": [
       "Generate report structure:   0%|          | 0/1 [00:00<?, ?it/s]"
      ]
     },
     "metadata": {},
     "output_type": "display_data"
    },
    {
     "data": {
      "application/vnd.jupyter.widget-view+json": {
       "model_id": "9f1b81e6dc4e4e738d517640ab9636f6",
       "version_major": 2,
       "version_minor": 0
      },
      "text/plain": [
       "Render HTML:   0%|          | 0/1 [00:00<?, ?it/s]"
      ]
     },
     "metadata": {},
     "output_type": "display_data"
    },
    {
     "data": {
      "application/vnd.jupyter.widget-view+json": {
       "model_id": "c01c8d83a1d3448f860cb643fac35f5a",
       "version_major": 2,
       "version_minor": 0
      },
      "text/plain": [
       "Export report to file:   0%|          | 0/1 [00:00<?, ?it/s]"
      ]
     },
     "metadata": {},
     "output_type": "display_data"
    }
   ],
   "source": [
    "profFusionDesDonnees = ProfileReport(FusionDesDonnees)\n",
    "profFusionDesDonnees.to_file(output_file='rapportToutesLesTransactions.html')"
   ]
  },
  {
   "cell_type": "code",
   "execution_count": 48,
   "id": "15d52097",
   "metadata": {},
   "outputs": [],
   "source": [
    "FusionDesDonnees['date_transaction'] = pd.to_datetime(FusionDesDonnees['date_transaction'])\n",
    "\n",
    "# Définir les types pour chaque colonne\n",
    "dtypes = {\n",
    "    'montant': int,\n",
    "    'commission_operateur': float,\n",
    "    'commission_cinetpay': float,\n",
    "    'date_transaction': 'datetime64'\n",
    "}\n",
    "\n",
    "# Enregistrer le DataFrame en XLSX avec les types définis\n",
    "with pd.ExcelWriter(r'C:\\Users\\RCARINE\\Desktop\\CinetpayPython\\CinetpayTestPython\\ToutesLesTransactions.xlsx') as writer:\n",
    "    FusionDesDonnees.to_excel(writer, sheet_name='ToutesLesTransactions', index=False, engine='openpyxl')"
   ]
  },
  {
   "cell_type": "code",
   "execution_count": null,
   "id": "8c3c9a9c",
   "metadata": {},
   "outputs": [],
   "source": []
  },
  {
   "cell_type": "code",
   "execution_count": null,
   "id": "a69ceec7",
   "metadata": {},
   "outputs": [],
   "source": []
  }
 ],
 "metadata": {
  "kernelspec": {
   "display_name": "Python 3 (ipykernel)",
   "language": "python",
   "name": "python3"
  },
  "language_info": {
   "codemirror_mode": {
    "name": "ipython",
    "version": 3
   },
   "file_extension": ".py",
   "mimetype": "text/x-python",
   "name": "python",
   "nbconvert_exporter": "python",
   "pygments_lexer": "ipython3",
   "version": "3.9.7"
  }
 },
 "nbformat": 4,
 "nbformat_minor": 5
}
